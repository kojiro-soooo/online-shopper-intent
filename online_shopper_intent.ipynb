{
  "nbformat": 4,
  "nbformat_minor": 0,
  "metadata": {
    "colab": {
      "provenance": [],
      "toc_visible": true
    },
    "kernelspec": {
      "name": "python3",
      "display_name": "Python 3"
    },
    "language_info": {
      "name": "python"
    }
  },
  "cells": [
    {
      "cell_type": "markdown",
      "source": [
        "## Basic setup: import libraries and dataset"
      ],
      "metadata": {
        "id": "1VfhDNbBYO0D"
      }
    },
    {
      "cell_type": "code",
      "execution_count": null,
      "metadata": {
        "id": "BkZdF4kullzd"
      },
      "outputs": [],
      "source": [
        "import pandas as pd\n",
        "import numpy as np\n",
        "import datetime as dt\n",
        "import matplotlib.pyplot as plt"
      ]
    },
    {
      "cell_type": "code",
      "source": [
        "from google.colab import drive\n",
        "drive.mount('/content/drive')"
      ],
      "metadata": {
        "colab": {
          "base_uri": "https://localhost:8080/"
        },
        "id": "zrefCBw0l1EZ",
        "outputId": "3aebe1b7-2a18-4fd8-a14a-bd7872d4eb00"
      },
      "execution_count": null,
      "outputs": [
        {
          "output_type": "stream",
          "name": "stdout",
          "text": [
            "Mounted at /content/drive\n"
          ]
        }
      ]
    },
    {
      "cell_type": "code",
      "source": [
        "# Dataset is available on UCI Machine Learning Repository\n",
        "# https://archive-beta.ics.uci.edu/dataset/468/online+shoppers+purchasing+intention+dataset\n",
        "\n",
        "df = pd.read_csv('/content/drive/MyDrive/online_shoppers_intention.csv')"
      ],
      "metadata": {
        "id": "prPEHIrNl2iw"
      },
      "execution_count": null,
      "outputs": []
    },
    {
      "cell_type": "markdown",
      "source": [
        "## Data Exploration"
      ],
      "metadata": {
        "id": "ruP1y2VUYjyt"
      }
    },
    {
      "cell_type": "code",
      "source": [
        "df.head(10)\n",
        "\n",
        "# each row captures session information for a unique user over a year \n",
        "# there are 8 categorical attributes which need to be encoded\n",
        "# all other numerical attributes look good"
      ],
      "metadata": {
        "colab": {
          "base_uri": "https://localhost:8080/",
          "height": 427
        },
        "id": "bPV0_uPwn5Hw",
        "outputId": "f3fc2a22-ad4e-437a-ca57-11227fb000e7"
      },
      "execution_count": null,
      "outputs": [
        {
          "output_type": "execute_result",
          "data": {
            "text/plain": [
              "   Administrative  Administrative_Duration  Informational  \\\n",
              "0               0                      0.0              0   \n",
              "1               0                      0.0              0   \n",
              "2               0                      0.0              0   \n",
              "3               0                      0.0              0   \n",
              "4               0                      0.0              0   \n",
              "5               0                      0.0              0   \n",
              "6               0                      0.0              0   \n",
              "7               1                      0.0              0   \n",
              "8               0                      0.0              0   \n",
              "9               0                      0.0              0   \n",
              "\n",
              "   Informational_Duration  ProductRelated  ProductRelated_Duration  \\\n",
              "0                     0.0               1                 0.000000   \n",
              "1                     0.0               2                64.000000   \n",
              "2                     0.0               1                 0.000000   \n",
              "3                     0.0               2                 2.666667   \n",
              "4                     0.0              10               627.500000   \n",
              "5                     0.0              19               154.216667   \n",
              "6                     0.0               1                 0.000000   \n",
              "7                     0.0               0                 0.000000   \n",
              "8                     0.0               2                37.000000   \n",
              "9                     0.0               3               738.000000   \n",
              "\n",
              "   BounceRates  ExitRates  PageValues  SpecialDay Month  OperatingSystems  \\\n",
              "0     0.200000   0.200000         0.0         0.0   Feb                 1   \n",
              "1     0.000000   0.100000         0.0         0.0   Feb                 2   \n",
              "2     0.200000   0.200000         0.0         0.0   Feb                 4   \n",
              "3     0.050000   0.140000         0.0         0.0   Feb                 3   \n",
              "4     0.020000   0.050000         0.0         0.0   Feb                 3   \n",
              "5     0.015789   0.024561         0.0         0.0   Feb                 2   \n",
              "6     0.200000   0.200000         0.0         0.4   Feb                 2   \n",
              "7     0.200000   0.200000         0.0         0.0   Feb                 1   \n",
              "8     0.000000   0.100000         0.0         0.8   Feb                 2   \n",
              "9     0.000000   0.022222         0.0         0.4   Feb                 2   \n",
              "\n",
              "   Browser  Region  TrafficType        VisitorType  Weekend  Revenue  \n",
              "0        1       1            1  Returning_Visitor    False    False  \n",
              "1        2       1            2  Returning_Visitor    False    False  \n",
              "2        1       9            3  Returning_Visitor    False    False  \n",
              "3        2       2            4  Returning_Visitor    False    False  \n",
              "4        3       1            4  Returning_Visitor     True    False  \n",
              "5        2       1            3  Returning_Visitor    False    False  \n",
              "6        4       3            3  Returning_Visitor    False    False  \n",
              "7        2       1            5  Returning_Visitor     True    False  \n",
              "8        2       2            3  Returning_Visitor    False    False  \n",
              "9        4       1            2  Returning_Visitor    False    False  "
            ],
            "text/html": [
              "\n",
              "  <div id=\"df-86e5e3f6-1a48-48ed-90f4-c3bafb1fc762\">\n",
              "    <div class=\"colab-df-container\">\n",
              "      <div>\n",
              "<style scoped>\n",
              "    .dataframe tbody tr th:only-of-type {\n",
              "        vertical-align: middle;\n",
              "    }\n",
              "\n",
              "    .dataframe tbody tr th {\n",
              "        vertical-align: top;\n",
              "    }\n",
              "\n",
              "    .dataframe thead th {\n",
              "        text-align: right;\n",
              "    }\n",
              "</style>\n",
              "<table border=\"1\" class=\"dataframe\">\n",
              "  <thead>\n",
              "    <tr style=\"text-align: right;\">\n",
              "      <th></th>\n",
              "      <th>Administrative</th>\n",
              "      <th>Administrative_Duration</th>\n",
              "      <th>Informational</th>\n",
              "      <th>Informational_Duration</th>\n",
              "      <th>ProductRelated</th>\n",
              "      <th>ProductRelated_Duration</th>\n",
              "      <th>BounceRates</th>\n",
              "      <th>ExitRates</th>\n",
              "      <th>PageValues</th>\n",
              "      <th>SpecialDay</th>\n",
              "      <th>Month</th>\n",
              "      <th>OperatingSystems</th>\n",
              "      <th>Browser</th>\n",
              "      <th>Region</th>\n",
              "      <th>TrafficType</th>\n",
              "      <th>VisitorType</th>\n",
              "      <th>Weekend</th>\n",
              "      <th>Revenue</th>\n",
              "    </tr>\n",
              "  </thead>\n",
              "  <tbody>\n",
              "    <tr>\n",
              "      <th>0</th>\n",
              "      <td>0</td>\n",
              "      <td>0.0</td>\n",
              "      <td>0</td>\n",
              "      <td>0.0</td>\n",
              "      <td>1</td>\n",
              "      <td>0.000000</td>\n",
              "      <td>0.200000</td>\n",
              "      <td>0.200000</td>\n",
              "      <td>0.0</td>\n",
              "      <td>0.0</td>\n",
              "      <td>Feb</td>\n",
              "      <td>1</td>\n",
              "      <td>1</td>\n",
              "      <td>1</td>\n",
              "      <td>1</td>\n",
              "      <td>Returning_Visitor</td>\n",
              "      <td>False</td>\n",
              "      <td>False</td>\n",
              "    </tr>\n",
              "    <tr>\n",
              "      <th>1</th>\n",
              "      <td>0</td>\n",
              "      <td>0.0</td>\n",
              "      <td>0</td>\n",
              "      <td>0.0</td>\n",
              "      <td>2</td>\n",
              "      <td>64.000000</td>\n",
              "      <td>0.000000</td>\n",
              "      <td>0.100000</td>\n",
              "      <td>0.0</td>\n",
              "      <td>0.0</td>\n",
              "      <td>Feb</td>\n",
              "      <td>2</td>\n",
              "      <td>2</td>\n",
              "      <td>1</td>\n",
              "      <td>2</td>\n",
              "      <td>Returning_Visitor</td>\n",
              "      <td>False</td>\n",
              "      <td>False</td>\n",
              "    </tr>\n",
              "    <tr>\n",
              "      <th>2</th>\n",
              "      <td>0</td>\n",
              "      <td>0.0</td>\n",
              "      <td>0</td>\n",
              "      <td>0.0</td>\n",
              "      <td>1</td>\n",
              "      <td>0.000000</td>\n",
              "      <td>0.200000</td>\n",
              "      <td>0.200000</td>\n",
              "      <td>0.0</td>\n",
              "      <td>0.0</td>\n",
              "      <td>Feb</td>\n",
              "      <td>4</td>\n",
              "      <td>1</td>\n",
              "      <td>9</td>\n",
              "      <td>3</td>\n",
              "      <td>Returning_Visitor</td>\n",
              "      <td>False</td>\n",
              "      <td>False</td>\n",
              "    </tr>\n",
              "    <tr>\n",
              "      <th>3</th>\n",
              "      <td>0</td>\n",
              "      <td>0.0</td>\n",
              "      <td>0</td>\n",
              "      <td>0.0</td>\n",
              "      <td>2</td>\n",
              "      <td>2.666667</td>\n",
              "      <td>0.050000</td>\n",
              "      <td>0.140000</td>\n",
              "      <td>0.0</td>\n",
              "      <td>0.0</td>\n",
              "      <td>Feb</td>\n",
              "      <td>3</td>\n",
              "      <td>2</td>\n",
              "      <td>2</td>\n",
              "      <td>4</td>\n",
              "      <td>Returning_Visitor</td>\n",
              "      <td>False</td>\n",
              "      <td>False</td>\n",
              "    </tr>\n",
              "    <tr>\n",
              "      <th>4</th>\n",
              "      <td>0</td>\n",
              "      <td>0.0</td>\n",
              "      <td>0</td>\n",
              "      <td>0.0</td>\n",
              "      <td>10</td>\n",
              "      <td>627.500000</td>\n",
              "      <td>0.020000</td>\n",
              "      <td>0.050000</td>\n",
              "      <td>0.0</td>\n",
              "      <td>0.0</td>\n",
              "      <td>Feb</td>\n",
              "      <td>3</td>\n",
              "      <td>3</td>\n",
              "      <td>1</td>\n",
              "      <td>4</td>\n",
              "      <td>Returning_Visitor</td>\n",
              "      <td>True</td>\n",
              "      <td>False</td>\n",
              "    </tr>\n",
              "    <tr>\n",
              "      <th>5</th>\n",
              "      <td>0</td>\n",
              "      <td>0.0</td>\n",
              "      <td>0</td>\n",
              "      <td>0.0</td>\n",
              "      <td>19</td>\n",
              "      <td>154.216667</td>\n",
              "      <td>0.015789</td>\n",
              "      <td>0.024561</td>\n",
              "      <td>0.0</td>\n",
              "      <td>0.0</td>\n",
              "      <td>Feb</td>\n",
              "      <td>2</td>\n",
              "      <td>2</td>\n",
              "      <td>1</td>\n",
              "      <td>3</td>\n",
              "      <td>Returning_Visitor</td>\n",
              "      <td>False</td>\n",
              "      <td>False</td>\n",
              "    </tr>\n",
              "    <tr>\n",
              "      <th>6</th>\n",
              "      <td>0</td>\n",
              "      <td>0.0</td>\n",
              "      <td>0</td>\n",
              "      <td>0.0</td>\n",
              "      <td>1</td>\n",
              "      <td>0.000000</td>\n",
              "      <td>0.200000</td>\n",
              "      <td>0.200000</td>\n",
              "      <td>0.0</td>\n",
              "      <td>0.4</td>\n",
              "      <td>Feb</td>\n",
              "      <td>2</td>\n",
              "      <td>4</td>\n",
              "      <td>3</td>\n",
              "      <td>3</td>\n",
              "      <td>Returning_Visitor</td>\n",
              "      <td>False</td>\n",
              "      <td>False</td>\n",
              "    </tr>\n",
              "    <tr>\n",
              "      <th>7</th>\n",
              "      <td>1</td>\n",
              "      <td>0.0</td>\n",
              "      <td>0</td>\n",
              "      <td>0.0</td>\n",
              "      <td>0</td>\n",
              "      <td>0.000000</td>\n",
              "      <td>0.200000</td>\n",
              "      <td>0.200000</td>\n",
              "      <td>0.0</td>\n",
              "      <td>0.0</td>\n",
              "      <td>Feb</td>\n",
              "      <td>1</td>\n",
              "      <td>2</td>\n",
              "      <td>1</td>\n",
              "      <td>5</td>\n",
              "      <td>Returning_Visitor</td>\n",
              "      <td>True</td>\n",
              "      <td>False</td>\n",
              "    </tr>\n",
              "    <tr>\n",
              "      <th>8</th>\n",
              "      <td>0</td>\n",
              "      <td>0.0</td>\n",
              "      <td>0</td>\n",
              "      <td>0.0</td>\n",
              "      <td>2</td>\n",
              "      <td>37.000000</td>\n",
              "      <td>0.000000</td>\n",
              "      <td>0.100000</td>\n",
              "      <td>0.0</td>\n",
              "      <td>0.8</td>\n",
              "      <td>Feb</td>\n",
              "      <td>2</td>\n",
              "      <td>2</td>\n",
              "      <td>2</td>\n",
              "      <td>3</td>\n",
              "      <td>Returning_Visitor</td>\n",
              "      <td>False</td>\n",
              "      <td>False</td>\n",
              "    </tr>\n",
              "    <tr>\n",
              "      <th>9</th>\n",
              "      <td>0</td>\n",
              "      <td>0.0</td>\n",
              "      <td>0</td>\n",
              "      <td>0.0</td>\n",
              "      <td>3</td>\n",
              "      <td>738.000000</td>\n",
              "      <td>0.000000</td>\n",
              "      <td>0.022222</td>\n",
              "      <td>0.0</td>\n",
              "      <td>0.4</td>\n",
              "      <td>Feb</td>\n",
              "      <td>2</td>\n",
              "      <td>4</td>\n",
              "      <td>1</td>\n",
              "      <td>2</td>\n",
              "      <td>Returning_Visitor</td>\n",
              "      <td>False</td>\n",
              "      <td>False</td>\n",
              "    </tr>\n",
              "  </tbody>\n",
              "</table>\n",
              "</div>\n",
              "      <button class=\"colab-df-convert\" onclick=\"convertToInteractive('df-86e5e3f6-1a48-48ed-90f4-c3bafb1fc762')\"\n",
              "              title=\"Convert this dataframe to an interactive table.\"\n",
              "              style=\"display:none;\">\n",
              "        \n",
              "  <svg xmlns=\"http://www.w3.org/2000/svg\" height=\"24px\"viewBox=\"0 0 24 24\"\n",
              "       width=\"24px\">\n",
              "    <path d=\"M0 0h24v24H0V0z\" fill=\"none\"/>\n",
              "    <path d=\"M18.56 5.44l.94 2.06.94-2.06 2.06-.94-2.06-.94-.94-2.06-.94 2.06-2.06.94zm-11 1L8.5 8.5l.94-2.06 2.06-.94-2.06-.94L8.5 2.5l-.94 2.06-2.06.94zm10 10l.94 2.06.94-2.06 2.06-.94-2.06-.94-.94-2.06-.94 2.06-2.06.94z\"/><path d=\"M17.41 7.96l-1.37-1.37c-.4-.4-.92-.59-1.43-.59-.52 0-1.04.2-1.43.59L10.3 9.45l-7.72 7.72c-.78.78-.78 2.05 0 2.83L4 21.41c.39.39.9.59 1.41.59.51 0 1.02-.2 1.41-.59l7.78-7.78 2.81-2.81c.8-.78.8-2.07 0-2.86zM5.41 20L4 18.59l7.72-7.72 1.47 1.35L5.41 20z\"/>\n",
              "  </svg>\n",
              "      </button>\n",
              "      \n",
              "  <style>\n",
              "    .colab-df-container {\n",
              "      display:flex;\n",
              "      flex-wrap:wrap;\n",
              "      gap: 12px;\n",
              "    }\n",
              "\n",
              "    .colab-df-convert {\n",
              "      background-color: #E8F0FE;\n",
              "      border: none;\n",
              "      border-radius: 50%;\n",
              "      cursor: pointer;\n",
              "      display: none;\n",
              "      fill: #1967D2;\n",
              "      height: 32px;\n",
              "      padding: 0 0 0 0;\n",
              "      width: 32px;\n",
              "    }\n",
              "\n",
              "    .colab-df-convert:hover {\n",
              "      background-color: #E2EBFA;\n",
              "      box-shadow: 0px 1px 2px rgba(60, 64, 67, 0.3), 0px 1px 3px 1px rgba(60, 64, 67, 0.15);\n",
              "      fill: #174EA6;\n",
              "    }\n",
              "\n",
              "    [theme=dark] .colab-df-convert {\n",
              "      background-color: #3B4455;\n",
              "      fill: #D2E3FC;\n",
              "    }\n",
              "\n",
              "    [theme=dark] .colab-df-convert:hover {\n",
              "      background-color: #434B5C;\n",
              "      box-shadow: 0px 1px 3px 1px rgba(0, 0, 0, 0.15);\n",
              "      filter: drop-shadow(0px 1px 2px rgba(0, 0, 0, 0.3));\n",
              "      fill: #FFFFFF;\n",
              "    }\n",
              "  </style>\n",
              "\n",
              "      <script>\n",
              "        const buttonEl =\n",
              "          document.querySelector('#df-86e5e3f6-1a48-48ed-90f4-c3bafb1fc762 button.colab-df-convert');\n",
              "        buttonEl.style.display =\n",
              "          google.colab.kernel.accessAllowed ? 'block' : 'none';\n",
              "\n",
              "        async function convertToInteractive(key) {\n",
              "          const element = document.querySelector('#df-86e5e3f6-1a48-48ed-90f4-c3bafb1fc762');\n",
              "          const dataTable =\n",
              "            await google.colab.kernel.invokeFunction('convertToInteractive',\n",
              "                                                     [key], {});\n",
              "          if (!dataTable) return;\n",
              "\n",
              "          const docLinkHtml = 'Like what you see? Visit the ' +\n",
              "            '<a target=\"_blank\" href=https://colab.research.google.com/notebooks/data_table.ipynb>data table notebook</a>'\n",
              "            + ' to learn more about interactive tables.';\n",
              "          element.innerHTML = '';\n",
              "          dataTable['output_type'] = 'display_data';\n",
              "          await google.colab.output.renderOutput(dataTable, element);\n",
              "          const docLink = document.createElement('div');\n",
              "          docLink.innerHTML = docLinkHtml;\n",
              "          element.appendChild(docLink);\n",
              "        }\n",
              "      </script>\n",
              "    </div>\n",
              "  </div>\n",
              "  "
            ]
          },
          "metadata": {},
          "execution_count": 5
        }
      ]
    },
    {
      "cell_type": "code",
      "source": [
        "df.describe()\n",
        "\n",
        "# average duration on product related pages is lower than admin related pages, which is not ideal for any business\n",
        "# bounce rate and exit rate are low, which is good (means the likelihood of a user leaving the site on the page they came in and \n",
        "# the likelihood they left the site on the same pages across sessions are low)\n"
      ],
      "metadata": {
        "colab": {
          "base_uri": "https://localhost:8080/",
          "height": 364
        },
        "id": "EJCat3NDnOSN",
        "outputId": "830a66b6-fe4e-48a3-ee92-1fd1ee42d33a"
      },
      "execution_count": null,
      "outputs": [
        {
          "output_type": "execute_result",
          "data": {
            "text/plain": [
              "       Administrative  Administrative_Duration  Informational  \\\n",
              "count    12330.000000             12330.000000   12330.000000   \n",
              "mean         2.315166                80.818611       0.503569   \n",
              "std          3.321784               176.779107       1.270156   \n",
              "min          0.000000                 0.000000       0.000000   \n",
              "25%          0.000000                 0.000000       0.000000   \n",
              "50%          1.000000                 7.500000       0.000000   \n",
              "75%          4.000000                93.256250       0.000000   \n",
              "max         27.000000              3398.750000      24.000000   \n",
              "\n",
              "       Informational_Duration  ProductRelated  ProductRelated_Duration  \\\n",
              "count            12330.000000    12330.000000             12330.000000   \n",
              "mean                34.472398       31.731468              1194.746220   \n",
              "std                140.749294       44.475503              1913.669288   \n",
              "min                  0.000000        0.000000                 0.000000   \n",
              "25%                  0.000000        7.000000               184.137500   \n",
              "50%                  0.000000       18.000000               598.936905   \n",
              "75%                  0.000000       38.000000              1464.157214   \n",
              "max               2549.375000      705.000000             63973.522230   \n",
              "\n",
              "        BounceRates     ExitRates    PageValues    SpecialDay  \\\n",
              "count  12330.000000  12330.000000  12330.000000  12330.000000   \n",
              "mean       0.022191      0.043073      5.889258      0.061427   \n",
              "std        0.048488      0.048597     18.568437      0.198917   \n",
              "min        0.000000      0.000000      0.000000      0.000000   \n",
              "25%        0.000000      0.014286      0.000000      0.000000   \n",
              "50%        0.003112      0.025156      0.000000      0.000000   \n",
              "75%        0.016813      0.050000      0.000000      0.000000   \n",
              "max        0.200000      0.200000    361.763742      1.000000   \n",
              "\n",
              "       OperatingSystems       Browser        Region   TrafficType  \n",
              "count      12330.000000  12330.000000  12330.000000  12330.000000  \n",
              "mean           2.124006      2.357097      3.147364      4.069586  \n",
              "std            0.911325      1.717277      2.401591      4.025169  \n",
              "min            1.000000      1.000000      1.000000      1.000000  \n",
              "25%            2.000000      2.000000      1.000000      2.000000  \n",
              "50%            2.000000      2.000000      3.000000      2.000000  \n",
              "75%            3.000000      2.000000      4.000000      4.000000  \n",
              "max            8.000000     13.000000      9.000000     20.000000  "
            ],
            "text/html": [
              "\n",
              "  <div id=\"df-c55e68ff-08db-4ea6-a2fa-b7b3c25a75d5\">\n",
              "    <div class=\"colab-df-container\">\n",
              "      <div>\n",
              "<style scoped>\n",
              "    .dataframe tbody tr th:only-of-type {\n",
              "        vertical-align: middle;\n",
              "    }\n",
              "\n",
              "    .dataframe tbody tr th {\n",
              "        vertical-align: top;\n",
              "    }\n",
              "\n",
              "    .dataframe thead th {\n",
              "        text-align: right;\n",
              "    }\n",
              "</style>\n",
              "<table border=\"1\" class=\"dataframe\">\n",
              "  <thead>\n",
              "    <tr style=\"text-align: right;\">\n",
              "      <th></th>\n",
              "      <th>Administrative</th>\n",
              "      <th>Administrative_Duration</th>\n",
              "      <th>Informational</th>\n",
              "      <th>Informational_Duration</th>\n",
              "      <th>ProductRelated</th>\n",
              "      <th>ProductRelated_Duration</th>\n",
              "      <th>BounceRates</th>\n",
              "      <th>ExitRates</th>\n",
              "      <th>PageValues</th>\n",
              "      <th>SpecialDay</th>\n",
              "      <th>OperatingSystems</th>\n",
              "      <th>Browser</th>\n",
              "      <th>Region</th>\n",
              "      <th>TrafficType</th>\n",
              "    </tr>\n",
              "  </thead>\n",
              "  <tbody>\n",
              "    <tr>\n",
              "      <th>count</th>\n",
              "      <td>12330.000000</td>\n",
              "      <td>12330.000000</td>\n",
              "      <td>12330.000000</td>\n",
              "      <td>12330.000000</td>\n",
              "      <td>12330.000000</td>\n",
              "      <td>12330.000000</td>\n",
              "      <td>12330.000000</td>\n",
              "      <td>12330.000000</td>\n",
              "      <td>12330.000000</td>\n",
              "      <td>12330.000000</td>\n",
              "      <td>12330.000000</td>\n",
              "      <td>12330.000000</td>\n",
              "      <td>12330.000000</td>\n",
              "      <td>12330.000000</td>\n",
              "    </tr>\n",
              "    <tr>\n",
              "      <th>mean</th>\n",
              "      <td>2.315166</td>\n",
              "      <td>80.818611</td>\n",
              "      <td>0.503569</td>\n",
              "      <td>34.472398</td>\n",
              "      <td>31.731468</td>\n",
              "      <td>1194.746220</td>\n",
              "      <td>0.022191</td>\n",
              "      <td>0.043073</td>\n",
              "      <td>5.889258</td>\n",
              "      <td>0.061427</td>\n",
              "      <td>2.124006</td>\n",
              "      <td>2.357097</td>\n",
              "      <td>3.147364</td>\n",
              "      <td>4.069586</td>\n",
              "    </tr>\n",
              "    <tr>\n",
              "      <th>std</th>\n",
              "      <td>3.321784</td>\n",
              "      <td>176.779107</td>\n",
              "      <td>1.270156</td>\n",
              "      <td>140.749294</td>\n",
              "      <td>44.475503</td>\n",
              "      <td>1913.669288</td>\n",
              "      <td>0.048488</td>\n",
              "      <td>0.048597</td>\n",
              "      <td>18.568437</td>\n",
              "      <td>0.198917</td>\n",
              "      <td>0.911325</td>\n",
              "      <td>1.717277</td>\n",
              "      <td>2.401591</td>\n",
              "      <td>4.025169</td>\n",
              "    </tr>\n",
              "    <tr>\n",
              "      <th>min</th>\n",
              "      <td>0.000000</td>\n",
              "      <td>0.000000</td>\n",
              "      <td>0.000000</td>\n",
              "      <td>0.000000</td>\n",
              "      <td>0.000000</td>\n",
              "      <td>0.000000</td>\n",
              "      <td>0.000000</td>\n",
              "      <td>0.000000</td>\n",
              "      <td>0.000000</td>\n",
              "      <td>0.000000</td>\n",
              "      <td>1.000000</td>\n",
              "      <td>1.000000</td>\n",
              "      <td>1.000000</td>\n",
              "      <td>1.000000</td>\n",
              "    </tr>\n",
              "    <tr>\n",
              "      <th>25%</th>\n",
              "      <td>0.000000</td>\n",
              "      <td>0.000000</td>\n",
              "      <td>0.000000</td>\n",
              "      <td>0.000000</td>\n",
              "      <td>7.000000</td>\n",
              "      <td>184.137500</td>\n",
              "      <td>0.000000</td>\n",
              "      <td>0.014286</td>\n",
              "      <td>0.000000</td>\n",
              "      <td>0.000000</td>\n",
              "      <td>2.000000</td>\n",
              "      <td>2.000000</td>\n",
              "      <td>1.000000</td>\n",
              "      <td>2.000000</td>\n",
              "    </tr>\n",
              "    <tr>\n",
              "      <th>50%</th>\n",
              "      <td>1.000000</td>\n",
              "      <td>7.500000</td>\n",
              "      <td>0.000000</td>\n",
              "      <td>0.000000</td>\n",
              "      <td>18.000000</td>\n",
              "      <td>598.936905</td>\n",
              "      <td>0.003112</td>\n",
              "      <td>0.025156</td>\n",
              "      <td>0.000000</td>\n",
              "      <td>0.000000</td>\n",
              "      <td>2.000000</td>\n",
              "      <td>2.000000</td>\n",
              "      <td>3.000000</td>\n",
              "      <td>2.000000</td>\n",
              "    </tr>\n",
              "    <tr>\n",
              "      <th>75%</th>\n",
              "      <td>4.000000</td>\n",
              "      <td>93.256250</td>\n",
              "      <td>0.000000</td>\n",
              "      <td>0.000000</td>\n",
              "      <td>38.000000</td>\n",
              "      <td>1464.157214</td>\n",
              "      <td>0.016813</td>\n",
              "      <td>0.050000</td>\n",
              "      <td>0.000000</td>\n",
              "      <td>0.000000</td>\n",
              "      <td>3.000000</td>\n",
              "      <td>2.000000</td>\n",
              "      <td>4.000000</td>\n",
              "      <td>4.000000</td>\n",
              "    </tr>\n",
              "    <tr>\n",
              "      <th>max</th>\n",
              "      <td>27.000000</td>\n",
              "      <td>3398.750000</td>\n",
              "      <td>24.000000</td>\n",
              "      <td>2549.375000</td>\n",
              "      <td>705.000000</td>\n",
              "      <td>63973.522230</td>\n",
              "      <td>0.200000</td>\n",
              "      <td>0.200000</td>\n",
              "      <td>361.763742</td>\n",
              "      <td>1.000000</td>\n",
              "      <td>8.000000</td>\n",
              "      <td>13.000000</td>\n",
              "      <td>9.000000</td>\n",
              "      <td>20.000000</td>\n",
              "    </tr>\n",
              "  </tbody>\n",
              "</table>\n",
              "</div>\n",
              "      <button class=\"colab-df-convert\" onclick=\"convertToInteractive('df-c55e68ff-08db-4ea6-a2fa-b7b3c25a75d5')\"\n",
              "              title=\"Convert this dataframe to an interactive table.\"\n",
              "              style=\"display:none;\">\n",
              "        \n",
              "  <svg xmlns=\"http://www.w3.org/2000/svg\" height=\"24px\"viewBox=\"0 0 24 24\"\n",
              "       width=\"24px\">\n",
              "    <path d=\"M0 0h24v24H0V0z\" fill=\"none\"/>\n",
              "    <path d=\"M18.56 5.44l.94 2.06.94-2.06 2.06-.94-2.06-.94-.94-2.06-.94 2.06-2.06.94zm-11 1L8.5 8.5l.94-2.06 2.06-.94-2.06-.94L8.5 2.5l-.94 2.06-2.06.94zm10 10l.94 2.06.94-2.06 2.06-.94-2.06-.94-.94-2.06-.94 2.06-2.06.94z\"/><path d=\"M17.41 7.96l-1.37-1.37c-.4-.4-.92-.59-1.43-.59-.52 0-1.04.2-1.43.59L10.3 9.45l-7.72 7.72c-.78.78-.78 2.05 0 2.83L4 21.41c.39.39.9.59 1.41.59.51 0 1.02-.2 1.41-.59l7.78-7.78 2.81-2.81c.8-.78.8-2.07 0-2.86zM5.41 20L4 18.59l7.72-7.72 1.47 1.35L5.41 20z\"/>\n",
              "  </svg>\n",
              "      </button>\n",
              "      \n",
              "  <style>\n",
              "    .colab-df-container {\n",
              "      display:flex;\n",
              "      flex-wrap:wrap;\n",
              "      gap: 12px;\n",
              "    }\n",
              "\n",
              "    .colab-df-convert {\n",
              "      background-color: #E8F0FE;\n",
              "      border: none;\n",
              "      border-radius: 50%;\n",
              "      cursor: pointer;\n",
              "      display: none;\n",
              "      fill: #1967D2;\n",
              "      height: 32px;\n",
              "      padding: 0 0 0 0;\n",
              "      width: 32px;\n",
              "    }\n",
              "\n",
              "    .colab-df-convert:hover {\n",
              "      background-color: #E2EBFA;\n",
              "      box-shadow: 0px 1px 2px rgba(60, 64, 67, 0.3), 0px 1px 3px 1px rgba(60, 64, 67, 0.15);\n",
              "      fill: #174EA6;\n",
              "    }\n",
              "\n",
              "    [theme=dark] .colab-df-convert {\n",
              "      background-color: #3B4455;\n",
              "      fill: #D2E3FC;\n",
              "    }\n",
              "\n",
              "    [theme=dark] .colab-df-convert:hover {\n",
              "      background-color: #434B5C;\n",
              "      box-shadow: 0px 1px 3px 1px rgba(0, 0, 0, 0.15);\n",
              "      filter: drop-shadow(0px 1px 2px rgba(0, 0, 0, 0.3));\n",
              "      fill: #FFFFFF;\n",
              "    }\n",
              "  </style>\n",
              "\n",
              "      <script>\n",
              "        const buttonEl =\n",
              "          document.querySelector('#df-c55e68ff-08db-4ea6-a2fa-b7b3c25a75d5 button.colab-df-convert');\n",
              "        buttonEl.style.display =\n",
              "          google.colab.kernel.accessAllowed ? 'block' : 'none';\n",
              "\n",
              "        async function convertToInteractive(key) {\n",
              "          const element = document.querySelector('#df-c55e68ff-08db-4ea6-a2fa-b7b3c25a75d5');\n",
              "          const dataTable =\n",
              "            await google.colab.kernel.invokeFunction('convertToInteractive',\n",
              "                                                     [key], {});\n",
              "          if (!dataTable) return;\n",
              "\n",
              "          const docLinkHtml = 'Like what you see? Visit the ' +\n",
              "            '<a target=\"_blank\" href=https://colab.research.google.com/notebooks/data_table.ipynb>data table notebook</a>'\n",
              "            + ' to learn more about interactive tables.';\n",
              "          element.innerHTML = '';\n",
              "          dataTable['output_type'] = 'display_data';\n",
              "          await google.colab.output.renderOutput(dataTable, element);\n",
              "          const docLink = document.createElement('div');\n",
              "          docLink.innerHTML = docLinkHtml;\n",
              "          element.appendChild(docLink);\n",
              "        }\n",
              "      </script>\n",
              "    </div>\n",
              "  </div>\n",
              "  "
            ]
          },
          "metadata": {},
          "execution_count": 6
        }
      ]
    },
    {
      "cell_type": "code",
      "source": [
        "df.info()\n",
        "\n",
        "# there are no missing values in the dataset"
      ],
      "metadata": {
        "colab": {
          "base_uri": "https://localhost:8080/"
        },
        "id": "xby_ZLW6nfn_",
        "outputId": "0fc1aa1b-f448-42f2-9d96-eed8d9fcfb58"
      },
      "execution_count": null,
      "outputs": [
        {
          "output_type": "stream",
          "name": "stdout",
          "text": [
            "<class 'pandas.core.frame.DataFrame'>\n",
            "RangeIndex: 12330 entries, 0 to 12329\n",
            "Data columns (total 18 columns):\n",
            " #   Column                   Non-Null Count  Dtype  \n",
            "---  ------                   --------------  -----  \n",
            " 0   Administrative           12330 non-null  int64  \n",
            " 1   Administrative_Duration  12330 non-null  float64\n",
            " 2   Informational            12330 non-null  int64  \n",
            " 3   Informational_Duration   12330 non-null  float64\n",
            " 4   ProductRelated           12330 non-null  int64  \n",
            " 5   ProductRelated_Duration  12330 non-null  float64\n",
            " 6   BounceRates              12330 non-null  float64\n",
            " 7   ExitRates                12330 non-null  float64\n",
            " 8   PageValues               12330 non-null  float64\n",
            " 9   SpecialDay               12330 non-null  float64\n",
            " 10  Month                    12330 non-null  object \n",
            " 11  OperatingSystems         12330 non-null  int64  \n",
            " 12  Browser                  12330 non-null  int64  \n",
            " 13  Region                   12330 non-null  int64  \n",
            " 14  TrafficType              12330 non-null  int64  \n",
            " 15  VisitorType              12330 non-null  object \n",
            " 16  Weekend                  12330 non-null  bool   \n",
            " 17  Revenue                  12330 non-null  bool   \n",
            "dtypes: bool(2), float64(7), int64(7), object(2)\n",
            "memory usage: 1.5+ MB\n"
          ]
        }
      ]
    },
    {
      "cell_type": "code",
      "source": [
        "# checking unique values in each column\n",
        "for col in df:\n",
        "    print(df[col].unique())\n",
        "\n",
        "# no data is available for January or April"
      ],
      "metadata": {
        "colab": {
          "base_uri": "https://localhost:8080/"
        },
        "id": "fqP88SXmgQ3y",
        "outputId": "356b7bed-0859-4a08-cadb-0008be0660c8"
      },
      "execution_count": null,
      "outputs": [
        {
          "output_type": "stream",
          "name": "stdout",
          "text": [
            "[ 0  1  2  4 12  3 10  6  5  9  8 16 13 11  7 18 14 17 19 15 24 22 21 20\n",
            " 23 27 26]\n",
            "[  0.         53.         64.6       ... 167.9107143 305.125\n",
            " 150.3571429]\n",
            "[ 0  1  2  4 16  5  3 14  6 12  7  9 10  8 11 24 13]\n",
            "[  0.   120.    16.   ... 547.75 368.25 211.25]\n",
            "[  1   2  10  19   0   3  16   7   6  23  13  20   8   5  32   4  45  14\n",
            "  52   9  46  15  22  11  12  36  42  27  90  18  38  17 128  25  30  21\n",
            "  51  26  28  31  24  50  96  49  68  98  67  55  35  37  29  34  71  63\n",
            "  87  40  33  54  64  75  39 111  81  61  47  44  88 149  41  79  66  43\n",
            " 258  80  62  83 173  48  58  57  56  69  82  59 109 287  53  84  78 137\n",
            " 113  89  65  60 104 129  77  74  93  76  72 194 140 110 132 115  73 328\n",
            " 160  86 150  95 130 151 117 124 127 125 116 105  92 157 154 220 187 112\n",
            " 131 159  94 204 142 206 102 313 145  85  97 198 181 126 106 101 108 119\n",
            "  70 122  91 276 100 291 114 172 217 141 133 156 136 180 135 195  99 362\n",
            " 179 118 175 148 440 103 178 184 705 134 176 146 189 120 193 222 121 107\n",
            " 305 199 439 223 230 280 377 310 158 486 153 139 182 221 229 216 170 202\n",
            " 346 274 240 162 123 211 227 168 161 429 686 167 518 256 255 358 213 191\n",
            " 282 155 138 246 237 271 171 414 219 262 409 243 241 197 449 143 188 391\n",
            " 238 152 165 293 174 584 164 311 340 250 200 385 292 232 251 517 225 169\n",
            " 309 235 501 224 275 318 144 397 343 245 186 337 351 166 349 423 359 163\n",
            " 147 264 312 226 324 266 260 338 272 534 470 207 218 326 190 304 205 233\n",
            " 401 177 330 286 247 357 315 231 339 283 374 248 279 281 234 261 290 336\n",
            " 378 254 183 210 192]\n",
            "[  0.          64.           2.66666667 ... 465.75       184.25\n",
            " 346.        ]\n",
            "[0.2        0.         0.05       ... 0.00382775 0.00086956 0.01114899]\n",
            "[0.2        0.1        0.14       ... 0.01276133 0.01395349 0.02903061]\n",
            "[ 0.         54.17976426 19.44707913 ... 78.81172527  3.68540082\n",
            " 12.24171745]\n",
            "[0.  0.4 0.8 1.  0.2 0.6]\n",
            "['Feb' 'Mar' 'May' 'Oct' 'June' 'Jul' 'Aug' 'Nov' 'Sep' 'Dec']\n",
            "[1 2 4 3 7 6 8 5]\n",
            "[ 1  2  3  4  5  6  7 10  8  9 12 13 11]\n",
            "[1 9 2 3 4 5 6 7 8]\n",
            "[ 1  2  3  4  5  6  7  8  9 10 11 12 13 14 15 18 19 16 17 20]\n",
            "['Returning_Visitor' 'New_Visitor' 'Other']\n",
            "[False  True]\n",
            "[False  True]\n"
          ]
        }
      ]
    },
    {
      "cell_type": "code",
      "source": [
        "# make a copy of the original dataframe\n",
        "shoppers = df.copy()\n",
        "\n",
        "# replace boolean values with binary values\n",
        "shoppers[['Weekend', 'Revenue']] = shoppers[['Weekend','Revenue']].replace({True:1, False:0})\n",
        "shoppers.head(5)"
      ],
      "metadata": {
        "colab": {
          "base_uri": "https://localhost:8080/",
          "height": 270
        },
        "id": "Gxa_KlH2c6yo",
        "outputId": "712cbf93-7e9f-4b3b-eb5e-a5ebbec5da68"
      },
      "execution_count": null,
      "outputs": [
        {
          "output_type": "execute_result",
          "data": {
            "text/plain": [
              "   Administrative  Administrative_Duration  Informational  \\\n",
              "0               0                      0.0              0   \n",
              "1               0                      0.0              0   \n",
              "2               0                      0.0              0   \n",
              "3               0                      0.0              0   \n",
              "4               0                      0.0              0   \n",
              "\n",
              "   Informational_Duration  ProductRelated  ProductRelated_Duration  \\\n",
              "0                     0.0               1                 0.000000   \n",
              "1                     0.0               2                64.000000   \n",
              "2                     0.0               1                 0.000000   \n",
              "3                     0.0               2                 2.666667   \n",
              "4                     0.0              10               627.500000   \n",
              "\n",
              "   BounceRates  ExitRates  PageValues  SpecialDay Month  OperatingSystems  \\\n",
              "0         0.20       0.20         0.0         0.0   Feb                 1   \n",
              "1         0.00       0.10         0.0         0.0   Feb                 2   \n",
              "2         0.20       0.20         0.0         0.0   Feb                 4   \n",
              "3         0.05       0.14         0.0         0.0   Feb                 3   \n",
              "4         0.02       0.05         0.0         0.0   Feb                 3   \n",
              "\n",
              "   Browser  Region  TrafficType        VisitorType  Weekend  Revenue  \n",
              "0        1       1            1  Returning_Visitor        0        0  \n",
              "1        2       1            2  Returning_Visitor        0        0  \n",
              "2        1       9            3  Returning_Visitor        0        0  \n",
              "3        2       2            4  Returning_Visitor        0        0  \n",
              "4        3       1            4  Returning_Visitor        1        0  "
            ],
            "text/html": [
              "\n",
              "  <div id=\"df-c3ff4c0c-062f-44c8-af03-289e102798e3\">\n",
              "    <div class=\"colab-df-container\">\n",
              "      <div>\n",
              "<style scoped>\n",
              "    .dataframe tbody tr th:only-of-type {\n",
              "        vertical-align: middle;\n",
              "    }\n",
              "\n",
              "    .dataframe tbody tr th {\n",
              "        vertical-align: top;\n",
              "    }\n",
              "\n",
              "    .dataframe thead th {\n",
              "        text-align: right;\n",
              "    }\n",
              "</style>\n",
              "<table border=\"1\" class=\"dataframe\">\n",
              "  <thead>\n",
              "    <tr style=\"text-align: right;\">\n",
              "      <th></th>\n",
              "      <th>Administrative</th>\n",
              "      <th>Administrative_Duration</th>\n",
              "      <th>Informational</th>\n",
              "      <th>Informational_Duration</th>\n",
              "      <th>ProductRelated</th>\n",
              "      <th>ProductRelated_Duration</th>\n",
              "      <th>BounceRates</th>\n",
              "      <th>ExitRates</th>\n",
              "      <th>PageValues</th>\n",
              "      <th>SpecialDay</th>\n",
              "      <th>Month</th>\n",
              "      <th>OperatingSystems</th>\n",
              "      <th>Browser</th>\n",
              "      <th>Region</th>\n",
              "      <th>TrafficType</th>\n",
              "      <th>VisitorType</th>\n",
              "      <th>Weekend</th>\n",
              "      <th>Revenue</th>\n",
              "    </tr>\n",
              "  </thead>\n",
              "  <tbody>\n",
              "    <tr>\n",
              "      <th>0</th>\n",
              "      <td>0</td>\n",
              "      <td>0.0</td>\n",
              "      <td>0</td>\n",
              "      <td>0.0</td>\n",
              "      <td>1</td>\n",
              "      <td>0.000000</td>\n",
              "      <td>0.20</td>\n",
              "      <td>0.20</td>\n",
              "      <td>0.0</td>\n",
              "      <td>0.0</td>\n",
              "      <td>Feb</td>\n",
              "      <td>1</td>\n",
              "      <td>1</td>\n",
              "      <td>1</td>\n",
              "      <td>1</td>\n",
              "      <td>Returning_Visitor</td>\n",
              "      <td>0</td>\n",
              "      <td>0</td>\n",
              "    </tr>\n",
              "    <tr>\n",
              "      <th>1</th>\n",
              "      <td>0</td>\n",
              "      <td>0.0</td>\n",
              "      <td>0</td>\n",
              "      <td>0.0</td>\n",
              "      <td>2</td>\n",
              "      <td>64.000000</td>\n",
              "      <td>0.00</td>\n",
              "      <td>0.10</td>\n",
              "      <td>0.0</td>\n",
              "      <td>0.0</td>\n",
              "      <td>Feb</td>\n",
              "      <td>2</td>\n",
              "      <td>2</td>\n",
              "      <td>1</td>\n",
              "      <td>2</td>\n",
              "      <td>Returning_Visitor</td>\n",
              "      <td>0</td>\n",
              "      <td>0</td>\n",
              "    </tr>\n",
              "    <tr>\n",
              "      <th>2</th>\n",
              "      <td>0</td>\n",
              "      <td>0.0</td>\n",
              "      <td>0</td>\n",
              "      <td>0.0</td>\n",
              "      <td>1</td>\n",
              "      <td>0.000000</td>\n",
              "      <td>0.20</td>\n",
              "      <td>0.20</td>\n",
              "      <td>0.0</td>\n",
              "      <td>0.0</td>\n",
              "      <td>Feb</td>\n",
              "      <td>4</td>\n",
              "      <td>1</td>\n",
              "      <td>9</td>\n",
              "      <td>3</td>\n",
              "      <td>Returning_Visitor</td>\n",
              "      <td>0</td>\n",
              "      <td>0</td>\n",
              "    </tr>\n",
              "    <tr>\n",
              "      <th>3</th>\n",
              "      <td>0</td>\n",
              "      <td>0.0</td>\n",
              "      <td>0</td>\n",
              "      <td>0.0</td>\n",
              "      <td>2</td>\n",
              "      <td>2.666667</td>\n",
              "      <td>0.05</td>\n",
              "      <td>0.14</td>\n",
              "      <td>0.0</td>\n",
              "      <td>0.0</td>\n",
              "      <td>Feb</td>\n",
              "      <td>3</td>\n",
              "      <td>2</td>\n",
              "      <td>2</td>\n",
              "      <td>4</td>\n",
              "      <td>Returning_Visitor</td>\n",
              "      <td>0</td>\n",
              "      <td>0</td>\n",
              "    </tr>\n",
              "    <tr>\n",
              "      <th>4</th>\n",
              "      <td>0</td>\n",
              "      <td>0.0</td>\n",
              "      <td>0</td>\n",
              "      <td>0.0</td>\n",
              "      <td>10</td>\n",
              "      <td>627.500000</td>\n",
              "      <td>0.02</td>\n",
              "      <td>0.05</td>\n",
              "      <td>0.0</td>\n",
              "      <td>0.0</td>\n",
              "      <td>Feb</td>\n",
              "      <td>3</td>\n",
              "      <td>3</td>\n",
              "      <td>1</td>\n",
              "      <td>4</td>\n",
              "      <td>Returning_Visitor</td>\n",
              "      <td>1</td>\n",
              "      <td>0</td>\n",
              "    </tr>\n",
              "  </tbody>\n",
              "</table>\n",
              "</div>\n",
              "      <button class=\"colab-df-convert\" onclick=\"convertToInteractive('df-c3ff4c0c-062f-44c8-af03-289e102798e3')\"\n",
              "              title=\"Convert this dataframe to an interactive table.\"\n",
              "              style=\"display:none;\">\n",
              "        \n",
              "  <svg xmlns=\"http://www.w3.org/2000/svg\" height=\"24px\"viewBox=\"0 0 24 24\"\n",
              "       width=\"24px\">\n",
              "    <path d=\"M0 0h24v24H0V0z\" fill=\"none\"/>\n",
              "    <path d=\"M18.56 5.44l.94 2.06.94-2.06 2.06-.94-2.06-.94-.94-2.06-.94 2.06-2.06.94zm-11 1L8.5 8.5l.94-2.06 2.06-.94-2.06-.94L8.5 2.5l-.94 2.06-2.06.94zm10 10l.94 2.06.94-2.06 2.06-.94-2.06-.94-.94-2.06-.94 2.06-2.06.94z\"/><path d=\"M17.41 7.96l-1.37-1.37c-.4-.4-.92-.59-1.43-.59-.52 0-1.04.2-1.43.59L10.3 9.45l-7.72 7.72c-.78.78-.78 2.05 0 2.83L4 21.41c.39.39.9.59 1.41.59.51 0 1.02-.2 1.41-.59l7.78-7.78 2.81-2.81c.8-.78.8-2.07 0-2.86zM5.41 20L4 18.59l7.72-7.72 1.47 1.35L5.41 20z\"/>\n",
              "  </svg>\n",
              "      </button>\n",
              "      \n",
              "  <style>\n",
              "    .colab-df-container {\n",
              "      display:flex;\n",
              "      flex-wrap:wrap;\n",
              "      gap: 12px;\n",
              "    }\n",
              "\n",
              "    .colab-df-convert {\n",
              "      background-color: #E8F0FE;\n",
              "      border: none;\n",
              "      border-radius: 50%;\n",
              "      cursor: pointer;\n",
              "      display: none;\n",
              "      fill: #1967D2;\n",
              "      height: 32px;\n",
              "      padding: 0 0 0 0;\n",
              "      width: 32px;\n",
              "    }\n",
              "\n",
              "    .colab-df-convert:hover {\n",
              "      background-color: #E2EBFA;\n",
              "      box-shadow: 0px 1px 2px rgba(60, 64, 67, 0.3), 0px 1px 3px 1px rgba(60, 64, 67, 0.15);\n",
              "      fill: #174EA6;\n",
              "    }\n",
              "\n",
              "    [theme=dark] .colab-df-convert {\n",
              "      background-color: #3B4455;\n",
              "      fill: #D2E3FC;\n",
              "    }\n",
              "\n",
              "    [theme=dark] .colab-df-convert:hover {\n",
              "      background-color: #434B5C;\n",
              "      box-shadow: 0px 1px 3px 1px rgba(0, 0, 0, 0.15);\n",
              "      filter: drop-shadow(0px 1px 2px rgba(0, 0, 0, 0.3));\n",
              "      fill: #FFFFFF;\n",
              "    }\n",
              "  </style>\n",
              "\n",
              "      <script>\n",
              "        const buttonEl =\n",
              "          document.querySelector('#df-c3ff4c0c-062f-44c8-af03-289e102798e3 button.colab-df-convert');\n",
              "        buttonEl.style.display =\n",
              "          google.colab.kernel.accessAllowed ? 'block' : 'none';\n",
              "\n",
              "        async function convertToInteractive(key) {\n",
              "          const element = document.querySelector('#df-c3ff4c0c-062f-44c8-af03-289e102798e3');\n",
              "          const dataTable =\n",
              "            await google.colab.kernel.invokeFunction('convertToInteractive',\n",
              "                                                     [key], {});\n",
              "          if (!dataTable) return;\n",
              "\n",
              "          const docLinkHtml = 'Like what you see? Visit the ' +\n",
              "            '<a target=\"_blank\" href=https://colab.research.google.com/notebooks/data_table.ipynb>data table notebook</a>'\n",
              "            + ' to learn more about interactive tables.';\n",
              "          element.innerHTML = '';\n",
              "          dataTable['output_type'] = 'display_data';\n",
              "          await google.colab.output.renderOutput(dataTable, element);\n",
              "          const docLink = document.createElement('div');\n",
              "          docLink.innerHTML = docLinkHtml;\n",
              "          element.appendChild(docLink);\n",
              "        }\n",
              "      </script>\n",
              "    </div>\n",
              "  </div>\n",
              "  "
            ]
          },
          "metadata": {},
          "execution_count": 9
        }
      ]
    },
    {
      "cell_type": "code",
      "source": [
        "%matplotlib inline\n",
        "\n",
        "shoppers.hist(bins=50, figsize=(20,15))\n",
        "plt.show()\n",
        "\n",
        "# heavy class imbalance in the target feature, as well as some other features"
      ],
      "metadata": {
        "colab": {
          "base_uri": "https://localhost:8080/",
          "height": 649
        },
        "id": "a8ZplefJj656",
        "outputId": "8ce697c1-85f5-4e9e-ab87-30eb19b6ca75"
      },
      "execution_count": null,
      "outputs": [
        {
          "output_type": "display_data",
          "data": {
            "text/plain": [
              "<Figure size 1440x1080 with 16 Axes>"
            ],
            "image/png": "[encoded data removed]"
          },
          "metadata": {
            "needs_background": "light"
          }
        }
      ]
    },
    {
      "cell_type": "code",
      "source": [
        "corr_matrix = shoppers.corr()\n",
        "corr_matrix[\"Revenue\"].sort_values(ascending=False)\n",
        "\n",
        "# PageValues is a good predictor of revenue, with other page related info following closely behind"
      ],
      "metadata": {
        "colab": {
          "base_uri": "https://localhost:8080/"
        },
        "id": "CUHYJCqsk-da",
        "outputId": "83b0ddd7-7326-49f5-fa8d-39b3815f3899"
      },
      "execution_count": null,
      "outputs": [
        {
          "output_type": "execute_result",
          "data": {
            "text/plain": [
              "Revenue                    1.000000\n",
              "PageValues                 0.492569\n",
              "ProductRelated             0.158538\n",
              "ProductRelated_Duration    0.152373\n",
              "Administrative             0.138917\n",
              "Informational              0.095200\n",
              "Administrative_Duration    0.093587\n",
              "Informational_Duration     0.070345\n",
              "Weekend                    0.029295\n",
              "Browser                    0.023984\n",
              "TrafficType               -0.005113\n",
              "Region                    -0.011595\n",
              "OperatingSystems          -0.014668\n",
              "SpecialDay                -0.082305\n",
              "BounceRates               -0.150673\n",
              "ExitRates                 -0.207071\n",
              "Name: Revenue, dtype: float64"
            ]
          },
          "metadata": {},
          "execution_count": 11
        }
      ]
    },
    {
      "cell_type": "markdown",
      "source": [
        "## Data Pre-processing"
      ],
      "metadata": {
        "id": "fRY65nY7Z9R-"
      }
    },
    {
      "cell_type": "code",
      "source": [
        "# separate target attribute\n",
        "X = shoppers.drop('Revenue', axis=1)\n",
        "Y = shoppers['Revenue']\n",
        "\n",
        "# store numerical and categorical attributes separately for independent pre-processing\n",
        "shoppers_num = X.drop(X.columns[[10, 11, 12, 13, 14, 15]], axis=1)\n",
        "shoppers_cat = X[['Month', 'OperatingSystems', 'Browser', 'Region', 'TrafficType', 'VisitorType']]\n",
        "\n",
        "from sklearn.pipeline import Pipeline\n",
        "from sklearn.preprocessing import StandardScaler\n",
        "from sklearn.preprocessing import LabelEncoder\n",
        "from sklearn.preprocessing import OneHotEncoder\n",
        "\n",
        "# normalize numerical values\n",
        "num_pipeline = Pipeline([\n",
        "    ('std_scaler', StandardScaler())\n",
        "])\n",
        "\n",
        "from sklearn.compose import ColumnTransformer\n",
        "\n",
        "# get the column names\n",
        "num_attribs = list(shoppers_num)\n",
        "cat_attribs = list(shoppers_cat.columns.values)\n",
        "\n",
        "# apply transformation to numerical and categorical attributes\n",
        "full_pipeline = ColumnTransformer([\n",
        "    (\"num\", num_pipeline, num_attribs), # normalization of numerical attributes\n",
        "    (\"cat\", OneHotEncoder(), cat_attribs)], # one-hot encoding of categorical values\n",
        "    sparse_threshold=0)\n",
        "\n",
        "shoppers_prepared = full_pipeline.fit_transform(X)\n",
        "\n",
        "# check the number of features\n",
        "shoppers_prepared.shape\n",
        "\n",
        "#number of non-target features increased from 17 --> 74 as a result of one-hot encoding"
      ],
      "metadata": {
        "id": "UPJnDFfsnsIg",
        "colab": {
          "base_uri": "https://localhost:8080/"
        },
        "outputId": "868ca911-8ad0-417a-a881-12d296f1d367"
      },
      "execution_count": null,
      "outputs": [
        {
          "output_type": "execute_result",
          "data": {
            "text/plain": [
              "(12330, 74)"
            ]
          },
          "metadata": {},
          "execution_count": 12
        }
      ]
    },
    {
      "cell_type": "markdown",
      "source": [
        "### Split train and test data"
      ],
      "metadata": {
        "id": "PWYpUG3GaJUv"
      }
    },
    {
      "cell_type": "code",
      "source": [
        "from sklearn.model_selection import train_test_split\n",
        "\n",
        "# split test and train data (80% vs 20%) and use stratified sampling relative to target class\n",
        "# to ensure class imbalance of target attribute is carried over to train and test datasets\n",
        "X_train, X_test, Y_train, Y_test = train_test_split(shoppers_prepared, Y, test_size = 0.2, random_state=14, stratify=Y)"
      ],
      "metadata": {
        "id": "Mr0kWV7_go2I"
      },
      "execution_count": null,
      "outputs": []
    },
    {
      "cell_type": "code",
      "source": [
        "print(X_train.shape[0])\n",
        "print(len(Y_train))\n",
        "\n",
        "#there is class imbalance with significantly more values belonging to the negative class (0) than the positve class\n",
        "pd.value_counts(Y_train)"
      ],
      "metadata": {
        "colab": {
          "base_uri": "https://localhost:8080/"
        },
        "id": "spccMzfG9-uk",
        "outputId": "62dda4a8-efdc-492b-d011-d215944ac9f9"
      },
      "execution_count": null,
      "outputs": [
        {
          "output_type": "stream",
          "name": "stdout",
          "text": [
            "9864\n",
            "9864\n"
          ]
        },
        {
          "output_type": "execute_result",
          "data": {
            "text/plain": [
              "0    8338\n",
              "1    1526\n",
              "Name: Revenue, dtype: int64"
            ]
          },
          "metadata": {},
          "execution_count": 14
        }
      ]
    },
    {
      "cell_type": "code",
      "source": [
        "# use randomized oversampling to address class imbalance\n",
        "# this results in possible over-fitting which will be checked in later steps\n",
        "from imblearn.over_sampling import RandomOverSampler\n",
        "ros = RandomOverSampler(random_state=14)\n",
        "X_train, Y_train = ros.fit_resample(X_train,Y_train)"
      ],
      "metadata": {
        "id": "IqRp_fWE9m8f"
      },
      "execution_count": null,
      "outputs": []
    },
    {
      "cell_type": "markdown",
      "source": [
        "## Evaluate performance of all models without any hyperparameter tuning\n",
        "\n",
        "Models evaluated:\n",
        "- Decision Tree\n",
        "- Random forest\n",
        "- K-nearest neighbor\n",
        "- Naive Bayes classifier\n",
        "- Gradient Boosting\n",
        "- XGBoost"
      ],
      "metadata": {
        "id": "6FNeYCywhRRd"
      }
    },
    {
      "cell_type": "markdown",
      "source": [
        "### Decision Tree"
      ],
      "metadata": {
        "id": "5VzhqieCL5AQ"
      }
    },
    {
      "cell_type": "code",
      "source": [
        "from sklearn.tree import DecisionTreeClassifier\n",
        "from sklearn.metrics import accuracy_score, precision_score, recall_score, f1_score, roc_auc_score\n",
        "from sklearn.model_selection import cross_validate\n",
        "\n",
        "# evaluation metrics to consider\n",
        "scoring = {\"accuracy\": 'accuracy', \"precision\": 'precision', \"recall\": 'recall', \"f1\": 'f1', \"roc_auc\": 'roc_auc'}\n",
        "\n",
        "# training DecisionTreeClassifier using training dataset and evaluating results\n",
        "dt_clf_init = DecisionTreeClassifier(random_state=14)\n",
        "dt_clf_init.fit(X_train, Y_train)\n",
        "\n",
        "def display_scores(scores):\n",
        "  print(\"Mean accuracy:\", scores[\"test_accuracy\"].mean())\n",
        "  print(\"Standard deviation:\",  scores[\"test_accuracy\"].std())\n",
        "  print(\"Mean precision:\", scores[\"test_precision\"].mean())\n",
        "  print(\"Standard deviation:\", scores[\"test_precision\"].std())\n",
        "  print(\"Mean recall:\", scores[\"test_recall\"].mean())\n",
        "  print(\"Standard deviation:\", scores[\"test_recall\"].std())\n",
        "  print(\"Mean f1:\", scores[\"test_f1\"].mean())\n",
        "  print(\"Standard deviation:\", scores[\"test_f1\"].std())\n",
        "  print(\"Mean ROC AUC:\", scores[\"test_roc_auc\"].mean())\n",
        "  print(\"Standard deviation:\", scores[\"test_roc_auc\"].std())\n",
        "\n",
        "# evaluation of model using 5-fold cross-validation\n",
        "dt_scores = cross_validate(dt_clf_init, X_train, Y_train, scoring=scoring, cv=5)\n",
        "display_scores(dt_scores)\n",
        "\n",
        "# the scores show signs overfitting -- evaluation metrics are very high with low standard deviation"
      ],
      "metadata": {
        "colab": {
          "base_uri": "https://localhost:8080/"
        },
        "id": "eBO_F7yQL4Iy",
        "outputId": "07e0f9b6-89f0-4e76-f465-248d3de12e56"
      },
      "execution_count": null,
      "outputs": [
        {
          "output_type": "stream",
          "name": "stdout",
          "text": [
            "Mean accuracy: 0.9536464321795937\n",
            "Standard deviation: 0.005571626884123334\n",
            "Mean precision: 0.9158674018194033\n",
            "Standard deviation: 0.00852228734022888\n",
            "Mean recall: 0.9991606714628297\n",
            "Standard deviation: 0.0016786570743405173\n",
            "Mean f1: 0.9556860263386191\n",
            "Standard deviation: 0.005149026719216673\n",
            "Mean ROC AUC: 0.9536462491674327\n",
            "Standard deviation: 0.005572627884483269\n"
          ]
        }
      ]
    },
    {
      "cell_type": "markdown",
      "source": [
        "### Random Forest Classifier\n"
      ],
      "metadata": {
        "id": "E0UDIT7MjWJY"
      }
    },
    {
      "cell_type": "code",
      "source": [
        "from sklearn.ensemble import RandomForestClassifier\n",
        "\n",
        "rnd_clf_init = RandomForestClassifier(random_state=14)\n",
        "rnd_clf_init.fit(X_train, Y_train)\n",
        "\n",
        "rf_scores = cross_validate(rnd_clf_init, X_train, Y_train, scoring=scoring, cv=5)\n",
        "display_scores(rf_scores)"
      ],
      "metadata": {
        "colab": {
          "base_uri": "https://localhost:8080/"
        },
        "id": "uJmrQQ0ChCjH",
        "outputId": "68fc07e8-24c6-45f8-b5b4-0a12b9377809"
      },
      "execution_count": null,
      "outputs": [
        {
          "output_type": "stream",
          "name": "stdout",
          "text": [
            "Mean accuracy: 0.9676182592157158\n",
            "Standard deviation: 0.003091564313176239\n",
            "Mean precision: 0.9396992613596401\n",
            "Standard deviation: 0.005233479882882434\n",
            "Mean recall: 0.999400479616307\n",
            "Standard deviation: 0.0011990407673860837\n",
            "Mean f1: 0.968623530073905\n",
            "Standard deviation: 0.0029209866375291375\n",
            "Mean ROC AUC: 0.9995810481771287\n",
            "Standard deviation: 0.00038279228563198146\n"
          ]
        }
      ]
    },
    {
      "cell_type": "markdown",
      "source": [
        "### K-nearest Neighbor"
      ],
      "metadata": {
        "id": "fyMiVGKYkKSO"
      }
    },
    {
      "cell_type": "code",
      "source": [
        "from sklearn.neighbors import KNeighborsClassifier\n",
        "import math\n",
        "\n",
        "# general rule for finding optimal K value is sqrt(number_of_rows)/2\n",
        "# print(math.sqrt(len(df))/2)\n",
        "# returns 56 so set n_neighbors to 56\n",
        "\n",
        "knn_clf_init = KNeighborsClassifier(n_neighbors=56)\n",
        "knn_clf_init.fit(X_train,Y_train)\n",
        "\n",
        "knn_scores = cross_validate(knn_clf_init, X_train, Y_train, scoring=scoring, cv=5)\n",
        "display_scores(knn_scores)"
      ],
      "metadata": {
        "colab": {
          "base_uri": "https://localhost:8080/"
        },
        "id": "WZvKim0wkAgZ",
        "outputId": "79c8c6d8-460f-4a0a-8275-35f6c3f22910"
      },
      "execution_count": null,
      "outputs": [
        {
          "output_type": "stream",
          "name": "stdout",
          "text": [
            "Mean accuracy: 0.7920960742650258\n",
            "Standard deviation: 0.00515370973510789\n",
            "Mean precision: 0.808644788979929\n",
            "Standard deviation: 0.010076151372276068\n",
            "Mean recall: 0.7655304910240973\n",
            "Standard deviation: 0.0037851159200541105\n",
            "Mean f1: 0.7864465859402318\n",
            "Standard deviation: 0.0038441004947236887\n",
            "Mean ROC AUC: 0.8814885808701654\n",
            "Standard deviation: 0.0067145289777834\n"
          ]
        }
      ]
    },
    {
      "cell_type": "markdown",
      "source": [
        "### Naive Bayes"
      ],
      "metadata": {
        "id": "PjVd4uESm4sw"
      }
    },
    {
      "cell_type": "code",
      "source": [
        "from sklearn.naive_bayes import GaussianNB\n",
        "\n",
        "nb_clf_init = GaussianNB()\n",
        "nb_clf_init.fit(X_train, Y_train)\n",
        "\n",
        "nb_scores = cross_validate(nb_clf_init, X_train, Y_train, scoring=scoring, cv=5)\n",
        "display_scores(nb_scores)"
      ],
      "metadata": {
        "colab": {
          "base_uri": "https://localhost:8080/"
        },
        "id": "cehKeRxHm38Y",
        "outputId": "97774deb-a74c-442b-860d-0e0fe107827b"
      },
      "execution_count": null,
      "outputs": [
        {
          "output_type": "stream",
          "name": "stdout",
          "text": [
            "Mean accuracy: 0.5687215744645663\n",
            "Standard deviation: 0.007098582107706576\n",
            "Mean precision: 0.5376004266126991\n",
            "Standard deviation: 0.004260296151058134\n",
            "Mean recall: 0.9835698327960307\n",
            "Standard deviation: 0.003894382145290687\n",
            "Mean f1: 0.6951944519802761\n",
            "Standard deviation: 0.003220054898879495\n",
            "Mean ROC AUC: 0.7655011788301899\n",
            "Standard deviation: 0.012231495344395753\n"
          ]
        }
      ]
    },
    {
      "cell_type": "markdown",
      "source": [
        "### Gradient Boosting Classifier"
      ],
      "metadata": {
        "id": "5_cE-C15oikk"
      }
    },
    {
      "cell_type": "code",
      "source": [
        "from sklearn.ensemble import GradientBoostingClassifier\n",
        "\n",
        "gb_clf_init = GradientBoostingClassifier(random_state=14)\n",
        "gb_clf_init.fit(X_train, Y_train)\n",
        "\n",
        "gb_scores = cross_validate(gb_clf_init, X_train, Y_train, scoring=scoring, cv=5)\n",
        "display_scores(gb_scores)"
      ],
      "metadata": {
        "colab": {
          "base_uri": "https://localhost:8080/"
        },
        "id": "xism8rmxoiIu",
        "outputId": "abd8bee5-01a2-4af2-df0d-db119d074f1a"
      },
      "execution_count": null,
      "outputs": [
        {
          "output_type": "stream",
          "name": "stdout",
          "text": [
            "Mean accuracy: 0.8724514181758041\n",
            "Standard deviation: 0.004079096108632303\n",
            "Mean precision: 0.8697696346949643\n",
            "Standard deviation: 0.008621143592303876\n",
            "Mean recall: 0.8762287110923138\n",
            "Standard deviation: 0.003934105945829425\n",
            "Mean f1: 0.8729485803467917\n",
            "Standard deviation: 0.0033861315535568355\n",
            "Mean ROC AUC: 0.9458060815678764\n",
            "Standard deviation: 0.0035725268719318587\n"
          ]
        }
      ]
    },
    {
      "cell_type": "markdown",
      "source": [
        "### XGBoost"
      ],
      "metadata": {
        "id": "PUUqILIGY3IB"
      }
    },
    {
      "cell_type": "code",
      "source": [
        "from xgboost import XGBClassifier\n",
        "\n",
        "xgb_clf_init = XGBClassifier(random_state=14)\n",
        "xgb_clf_init.fit(X_train, Y_train)\n",
        "\n",
        "xgb_scores = cross_validate(xgb_clf_init, X_train, Y_train, scoring=scoring, cv=5)\n",
        "display_scores(xgb_scores)"
      ],
      "metadata": {
        "colab": {
          "base_uri": "https://localhost:8080/"
        },
        "id": "1i1n2vAN58bf",
        "outputId": "39a3b950-da98-46b5-8945-401c009d60ac"
      },
      "execution_count": null,
      "outputs": [
        {
          "output_type": "stream",
          "name": "stdout",
          "text": [
            "Mean accuracy: 0.8690932231725863\n",
            "Standard deviation: 0.004850541459271847\n",
            "Mean precision: 0.8656429149944855\n",
            "Standard deviation: 0.008676031067910565\n",
            "Mean recall: 0.8739504617062199\n",
            "Standard deviation: 0.004669935770697043\n",
            "Mean f1: 0.8697418325959759\n",
            "Standard deviation: 0.004297967770045606\n",
            "Mean ROC AUC: 0.9446073176890251\n",
            "Standard deviation: 0.003920451684990711\n"
          ]
        }
      ]
    },
    {
      "cell_type": "markdown",
      "source": [
        "## Evaluate performance of models with hyperparameter tuning"
      ],
      "metadata": {
        "id": "T2DZeudv4StM"
      }
    },
    {
      "cell_type": "markdown",
      "source": [
        "### Decision Tree"
      ],
      "metadata": {
        "id": "sDKAoMtCMiXM"
      }
    },
    {
      "cell_type": "code",
      "source": [
        "from scipy.stats import randint\n",
        "from sklearn.model_selection import RandomizedSearchCV\n",
        "\n",
        "# randomized search for optimal hyperparameters\n",
        "params_dt = {\n",
        "    'max_depth': randint(low=3, high=7),\n",
        "    'max_features': randint(low=15, high=28),\n",
        "    }\n",
        "\n",
        "# initialize decision tree classifier\n",
        "dt_clf = DecisionTreeClassifier()\n",
        "\n",
        "# set refit='roc_auc' so that parameters are optimized against AUC score and not other scores \n",
        "rnd_search_dt = RandomizedSearchCV(dt_clf, param_distributions=params_dt, n_iter=30, cv=5, scoring=scoring, refit='roc_auc')\n",
        "rnd_search_dt.fit(X_train, Y_train) # train model\n",
        "\n",
        "# print results\n",
        "cvres_dt = rnd_search_dt.cv_results_\n",
        "for mean_accuracy, mean_precision, mean_recall, mean_f1, mean_auc_roc, params in zip(cvres_dt[\"mean_test_accuracy\"], cvres_dt[\"mean_test_precision\"], cvres_dt[\"mean_test_recall\"], cvres_dt[\"mean_test_f1\"], cvres_dt[\"mean_test_roc_auc\"], cvres_dt[\"params\"]):\n",
        "  print(\"Mean accuracy\", round(mean_accuracy,3), \"Mean precision\", round(mean_precision,3), \"Mean recall\", round(mean_recall,3), \"Mean F1\", round(mean_f1,3), \"Mean ROC AUC\", round(mean_auc_roc,3), params)\n",
        "\n",
        "# Choosing the best random forest model from random search\n",
        "print(\"Best hyperparameters:\", rnd_search_dt.best_estimator_)"
      ],
      "metadata": {
        "colab": {
          "base_uri": "https://localhost:8080/"
        },
        "id": "sw3UpLjpMhpY",
        "outputId": "75d5118e-2029-4e14-fab2-d71f99c416d5"
      },
      "execution_count": null,
      "outputs": [
        {
          "output_type": "stream",
          "name": "stdout",
          "text": [
            "Mean accuracy 0.81 Mean precision 0.798 Mean recall 0.837 Mean F1 0.816 Mean ROC AUC 0.88 {'max_depth': 6, 'max_features': 19}\n",
            "Mean accuracy 0.807 Mean precision 0.789 Mean recall 0.852 Mean F1 0.817 Mean ROC AUC 0.869 {'max_depth': 6, 'max_features': 16}\n",
            "Mean accuracy 0.746 Mean precision 0.721 Mean recall 0.871 Mean F1 0.78 Mean ROC AUC 0.796 {'max_depth': 3, 'max_features': 25}\n",
            "Mean accuracy 0.844 Mean precision 0.861 Mean recall 0.822 Mean F1 0.84 Mean ROC AUC 0.906 {'max_depth': 4, 'max_features': 23}\n",
            "Mean accuracy 0.781 Mean precision 0.766 Mean recall 0.838 Mean F1 0.796 Mean ROC AUC 0.841 {'max_depth': 4, 'max_features': 17}\n",
            "Mean accuracy 0.82 Mean precision 0.8 Mean recall 0.865 Mean F1 0.829 Mean ROC AUC 0.894 {'max_depth': 6, 'max_features': 21}\n",
            "Mean accuracy 0.747 Mean precision 0.746 Mean recall 0.784 Mean F1 0.758 Mean ROC AUC 0.806 {'max_depth': 3, 'max_features': 25}\n",
            "Mean accuracy 0.814 Mean precision 0.828 Mean recall 0.812 Mean F1 0.816 Mean ROC AUC 0.868 {'max_depth': 4, 'max_features': 20}\n",
            "Mean accuracy 0.785 Mean precision 0.782 Mean recall 0.832 Mean F1 0.8 Mean ROC AUC 0.851 {'max_depth': 5, 'max_features': 24}\n",
            "Mean accuracy 0.786 Mean precision 0.784 Mean recall 0.826 Mean F1 0.799 Mean ROC AUC 0.832 {'max_depth': 3, 'max_features': 20}\n",
            "Mean accuracy 0.727 Mean precision 0.73 Mean recall 0.759 Mean F1 0.734 Mean ROC AUC 0.781 {'max_depth': 3, 'max_features': 18}\n",
            "Mean accuracy 0.82 Mean precision 0.819 Mean recall 0.842 Mean F1 0.827 Mean ROC AUC 0.892 {'max_depth': 5, 'max_features': 17}\n",
            "Mean accuracy 0.812 Mean precision 0.826 Mean recall 0.808 Mean F1 0.814 Mean ROC AUC 0.871 {'max_depth': 4, 'max_features': 23}\n",
            "Mean accuracy 0.728 Mean precision 0.708 Mean recall 0.827 Mean F1 0.758 Mean ROC AUC 0.775 {'max_depth': 3, 'max_features': 16}\n",
            "Mean accuracy 0.83 Mean precision 0.825 Mean recall 0.842 Mean F1 0.832 Mean ROC AUC 0.905 {'max_depth': 5, 'max_features': 22}\n",
            "Mean accuracy 0.722 Mean precision 0.708 Mean recall 0.829 Mean F1 0.752 Mean ROC AUC 0.759 {'max_depth': 3, 'max_features': 17}\n",
            "Mean accuracy 0.819 Mean precision 0.827 Mean recall 0.816 Mean F1 0.819 Mean ROC AUC 0.886 {'max_depth': 5, 'max_features': 16}\n",
            "Mean accuracy 0.815 Mean precision 0.795 Mean recall 0.863 Mean F1 0.825 Mean ROC AUC 0.884 {'max_depth': 6, 'max_features': 22}\n",
            "Mean accuracy 0.818 Mean precision 0.813 Mean recall 0.828 Mean F1 0.819 Mean ROC AUC 0.888 {'max_depth': 5, 'max_features': 22}\n",
            "Mean accuracy 0.805 Mean precision 0.808 Mean recall 0.823 Mean F1 0.81 Mean ROC AUC 0.863 {'max_depth': 4, 'max_features': 27}\n",
            "Mean accuracy 0.83 Mean precision 0.824 Mean recall 0.84 Mean F1 0.832 Mean ROC AUC 0.897 {'max_depth': 5, 'max_features': 22}\n",
            "Mean accuracy 0.822 Mean precision 0.84 Mean recall 0.816 Mean F1 0.823 Mean ROC AUC 0.882 {'max_depth': 3, 'max_features': 25}\n",
            "Mean accuracy 0.834 Mean precision 0.868 Mean recall 0.789 Mean F1 0.825 Mean ROC AUC 0.888 {'max_depth': 3, 'max_features': 27}\n",
            "Mean accuracy 0.806 Mean precision 0.805 Mean recall 0.819 Mean F1 0.81 Mean ROC AUC 0.863 {'max_depth': 4, 'max_features': 19}\n",
            "Mean accuracy 0.788 Mean precision 0.767 Mean recall 0.84 Mean F1 0.799 Mean ROC AUC 0.872 {'max_depth': 5, 'max_features': 22}\n",
            "Mean accuracy 0.843 Mean precision 0.833 Mean recall 0.857 Mean F1 0.845 Mean ROC AUC 0.917 {'max_depth': 6, 'max_features': 21}\n",
            "Mean accuracy 0.853 Mean precision 0.853 Mean recall 0.854 Mean F1 0.853 Mean ROC AUC 0.916 {'max_depth': 5, 'max_features': 25}\n",
            "Mean accuracy 0.802 Mean precision 0.798 Mean recall 0.823 Mean F1 0.807 Mean ROC AUC 0.873 {'max_depth': 5, 'max_features': 21}\n",
            "Mean accuracy 0.806 Mean precision 0.831 Mean recall 0.789 Mean F1 0.806 Mean ROC AUC 0.849 {'max_depth': 3, 'max_features': 21}\n",
            "Mean accuracy 0.848 Mean precision 0.853 Mean recall 0.843 Mean F1 0.848 Mean ROC AUC 0.915 {'max_depth': 6, 'max_features': 21}\n",
            "Best hyperparameters: DecisionTreeClassifier(max_depth=6, max_features=21)\n"
          ]
        }
      ]
    },
    {
      "cell_type": "markdown",
      "source": [
        "\n",
        "### Random Forest Classifier"
      ],
      "metadata": {
        "id": "C9HTQmi-4mXD"
      }
    },
    {
      "cell_type": "code",
      "source": [
        "params_rf = {\n",
        "    'n_estimators': randint(low=1, high=500),\n",
        "    'max_features': randint(low=1, high=28),\n",
        "    'max_depth': randint(low=1, high=7),\n",
        "    'bootstrap': [True, False]\n",
        "}\n",
        "\n",
        "rnd_clf = RandomForestClassifier()\n",
        "\n",
        "# set n_jobs=-1 for parallel job processing \n",
        "rnd_search_rf = RandomizedSearchCV(rnd_clf, param_distributions=params_rf, n_iter=30, cv=5, scoring=scoring, n_jobs=-1, refit='roc_auc')\n",
        "rnd_search_rf.fit(X_train, Y_train)\n",
        "\n",
        "cvres_rf = rnd_search_rf.cv_results_\n",
        "for mean_accuracy, mean_precision, mean_recall, mean_f1, mean_auc_roc, params in zip(cvres_rf[\"mean_test_accuracy\"], cvres_rf[\"mean_test_precision\"], cvres_rf[\"mean_test_recall\"], cvres_rf[\"mean_test_f1\"], cvres_rf[\"mean_test_roc_auc\"], cvres_rf[\"params\"]):\n",
        "  print(\"Mean accuracy\", round(mean_accuracy,3), \"Mean precision\", round(mean_precision,3), \"Mean recall\", round(mean_recall,3), \"Mean F1\", round(mean_f1,3), \"Mean ROC AUC\", round(mean_auc_roc,3), params)\n",
        "\n",
        "print(\"Best hyperparameters:\", rnd_search_rf.best_estimator_)"
      ],
      "metadata": {
        "colab": {
          "base_uri": "https://localhost:8080/"
        },
        "id": "vPiSKHsM4PO4",
        "outputId": "92d9cad4-55c0-4e3c-e1d0-b81bd004da8e"
      },
      "execution_count": null,
      "outputs": [
        {
          "output_type": "stream",
          "name": "stdout",
          "text": [
            "Mean accuracy 0.857 Mean precision 0.865 Mean recall 0.846 Mean F1 0.855 Mean ROC AUC 0.934 {'bootstrap': True, 'max_depth': 5, 'max_features': 16, 'n_estimators': 340}\n",
            "Mean accuracy 0.853 Mean precision 0.865 Mean recall 0.836 Mean F1 0.85 Mean ROC AUC 0.924 {'bootstrap': False, 'max_depth': 4, 'max_features': 16, 'n_estimators': 333}\n",
            "Mean accuracy 0.855 Mean precision 0.865 Mean recall 0.841 Mean F1 0.853 Mean ROC AUC 0.932 {'bootstrap': True, 'max_depth': 5, 'max_features': 15, 'n_estimators': 90}\n",
            "Mean accuracy 0.772 Mean precision 0.74 Mean recall 0.845 Mean F1 0.788 Mean ROC AUC 0.855 {'bootstrap': True, 'max_depth': 1, 'max_features': 7, 'n_estimators': 180}\n",
            "Mean accuracy 0.844 Mean precision 0.877 Mean recall 0.8 Mean F1 0.837 Mean ROC AUC 0.9 {'bootstrap': False, 'max_depth': 2, 'max_features': 20, 'n_estimators': 140}\n",
            "Mean accuracy 0.853 Mean precision 0.864 Mean recall 0.838 Mean F1 0.85 Mean ROC AUC 0.904 {'bootstrap': False, 'max_depth': 3, 'max_features': 13, 'n_estimators': 252}\n",
            "Mean accuracy 0.852 Mean precision 0.853 Mean recall 0.85 Mean F1 0.852 Mean ROC AUC 0.91 {'bootstrap': False, 'max_depth': 4, 'max_features': 9, 'n_estimators': 463}\n",
            "Mean accuracy 0.7 Mean precision 0.677 Mean recall 0.765 Mean F1 0.717 Mean ROC AUC 0.764 {'bootstrap': True, 'max_depth': 1, 'max_features': 2, 'n_estimators': 37}\n",
            "Mean accuracy 0.855 Mean precision 0.866 Mean recall 0.841 Mean F1 0.853 Mean ROC AUC 0.932 {'bootstrap': True, 'max_depth': 4, 'max_features': 23, 'n_estimators': 257}\n",
            "Mean accuracy 0.803 Mean precision 0.792 Mean recall 0.834 Mean F1 0.81 Mean ROC AUC 0.864 {'bootstrap': True, 'max_depth': 1, 'max_features': 11, 'n_estimators': 108}\n",
            "Mean accuracy 0.78 Mean precision 0.751 Mean recall 0.837 Mean F1 0.792 Mean ROC AUC 0.855 {'bootstrap': True, 'max_depth': 1, 'max_features': 1, 'n_estimators': 238}\n",
            "Mean accuracy 0.845 Mean precision 0.872 Mean recall 0.81 Mean F1 0.84 Mean ROC AUC 0.895 {'bootstrap': False, 'max_depth': 2, 'max_features': 16, 'n_estimators': 490}\n",
            "Mean accuracy 0.857 Mean precision 0.861 Mean recall 0.853 Mean F1 0.857 Mean ROC AUC 0.94 {'bootstrap': False, 'max_depth': 5, 'max_features': 26, 'n_estimators': 238}\n",
            "Mean accuracy 0.823 Mean precision 0.8 Mean recall 0.863 Mean F1 0.83 Mean ROC AUC 0.888 {'bootstrap': False, 'max_depth': 3, 'max_features': 5, 'n_estimators': 468}\n",
            "Mean accuracy 0.844 Mean precision 0.877 Mean recall 0.801 Mean F1 0.837 Mean ROC AUC 0.905 {'bootstrap': False, 'max_depth': 2, 'max_features': 26, 'n_estimators': 251}\n",
            "Mean accuracy 0.856 Mean precision 0.864 Mean recall 0.846 Mean F1 0.855 Mean ROC AUC 0.935 {'bootstrap': False, 'max_depth': 5, 'max_features': 16, 'n_estimators': 480}\n",
            "Mean accuracy 0.84 Mean precision 0.876 Mean recall 0.792 Mean F1 0.832 Mean ROC AUC 0.872 {'bootstrap': True, 'max_depth': 1, 'max_features': 25, 'n_estimators': 325}\n",
            "Mean accuracy 0.794 Mean precision 0.77 Mean recall 0.841 Mean F1 0.803 Mean ROC AUC 0.865 {'bootstrap': False, 'max_depth': 1, 'max_features': 5, 'n_estimators': 226}\n",
            "Mean accuracy 0.853 Mean precision 0.844 Mean recall 0.865 Mean F1 0.854 Mean ROC AUC 0.916 {'bootstrap': True, 'max_depth': 5, 'max_features': 10, 'n_estimators': 26}\n",
            "Mean accuracy 0.79 Mean precision 0.78 Mean recall 0.822 Mean F1 0.799 Mean ROC AUC 0.841 {'bootstrap': False, 'max_depth': 1, 'max_features': 7, 'n_estimators': 32}\n",
            "Mean accuracy 0.809 Mean precision 0.801 Mean recall 0.829 Mean F1 0.813 Mean ROC AUC 0.866 {'bootstrap': False, 'max_depth': 1, 'max_features': 11, 'n_estimators': 360}\n",
            "Mean accuracy 0.84 Mean precision 0.824 Mean recall 0.866 Mean F1 0.844 Mean ROC AUC 0.901 {'bootstrap': False, 'max_depth': 4, 'max_features': 6, 'n_estimators': 223}\n",
            "Mean accuracy 0.765 Mean precision 0.732 Mean recall 0.843 Mean F1 0.783 Mean ROC AUC 0.843 {'bootstrap': True, 'max_depth': 1, 'max_features': 1, 'n_estimators': 412}\n",
            "Mean accuracy 0.844 Mean precision 0.875 Mean recall 0.803 Mean F1 0.838 Mean ROC AUC 0.921 {'bootstrap': False, 'max_depth': 3, 'max_features': 25, 'n_estimators': 284}\n",
            "Mean accuracy 0.842 Mean precision 0.876 Mean recall 0.796 Mean F1 0.835 Mean ROC AUC 0.872 {'bootstrap': True, 'max_depth': 1, 'max_features': 27, 'n_estimators': 306}\n",
            "Mean accuracy 0.84 Mean precision 0.876 Mean recall 0.793 Mean F1 0.832 Mean ROC AUC 0.873 {'bootstrap': True, 'max_depth': 1, 'max_features': 26, 'n_estimators': 269}\n",
            "Mean accuracy 0.778 Mean precision 0.754 Mean recall 0.836 Mean F1 0.792 Mean ROC AUC 0.845 {'bootstrap': False, 'max_depth': 1, 'max_features': 2, 'n_estimators': 167}\n",
            "Mean accuracy 0.822 Mean precision 0.818 Mean recall 0.84 Mean F1 0.827 Mean ROC AUC 0.89 {'bootstrap': True, 'max_depth': 4, 'max_features': 11, 'n_estimators': 5}\n",
            "Mean accuracy 0.849 Mean precision 0.87 Mean recall 0.821 Mean F1 0.844 Mean ROC AUC 0.921 {'bootstrap': True, 'max_depth': 3, 'max_features': 24, 'n_estimators': 148}\n",
            "Mean accuracy 0.862 Mean precision 0.863 Mean recall 0.861 Mean F1 0.862 Mean ROC AUC 0.946 {'bootstrap': True, 'max_depth': 6, 'max_features': 26, 'n_estimators': 157}\n",
            "Best hyperparameters: RandomForestClassifier(max_depth=6, max_features=26, n_estimators=157)\n"
          ]
        }
      ]
    },
    {
      "cell_type": "markdown",
      "source": [
        "### KNN"
      ],
      "metadata": {
        "id": "gCn6vk7LjK_y"
      }
    },
    {
      "cell_type": "code",
      "source": [
        "# randomized search for optimal hyperparameters\n",
        "params_knn = {\n",
        "    'n_neighbors': randint(low=10, high=200),\n",
        "    'weights': ['uniform', 'distance'],\n",
        "    'p': randint(low=1, high=3),\n",
        "}\n",
        "\n",
        "knn_clf = KNeighborsClassifier()\n",
        "rnd_search_knn = RandomizedSearchCV(knn_clf, param_distributions=params_knn, n_iter=20, cv=5, scoring=scoring, n_jobs=-1, refit='roc_auc')\n",
        "rnd_search_knn.fit(X_train, Y_train)\n",
        "\n",
        "cvres_knn = rnd_search_knn.cv_results_\n",
        "for mean_accuracy, mean_precision, mean_recall, mean_f1, mean_auc_roc, params in zip(cvres_knn[\"mean_test_accuracy\"], cvres_knn[\"mean_test_precision\"], cvres_knn[\"mean_test_recall\"], cvres_knn[\"mean_test_f1\"], cvres_knn[\"mean_test_roc_auc\"], cvres_knn[\"params\"]):\n",
        "  print(\"Mean accuracy\", round(mean_accuracy,3), \"Mean precision\", round(mean_precision,3), \"Mean recall\", round(mean_recall,3), \"Mean F1\", round(mean_f1,3), \"Mean ROC AUC\", round(mean_auc_roc,3), params)\n",
        "# Choosing the best random forest model from random search\n",
        "print(\"Best hyperparameters:\", rnd_search_knn.best_estimator_)"
      ],
      "metadata": {
        "colab": {
          "base_uri": "https://localhost:8080/"
        },
        "id": "5_bo1zHC8Z--",
        "outputId": "34a31ce0-145d-4b82-9cec-3b1170dd7103"
      },
      "execution_count": null,
      "outputs": [
        {
          "output_type": "stream",
          "name": "stderr",
          "text": [
            "/usr/local/lib/python3.8/dist-packages/joblib/externals/loky/process_executor.py:700: UserWarning: A worker stopped while some jobs were given to the executor. This can be caused by a too short worker timeout or by a memory leak.\n",
            "  warnings.warn(\n"
          ]
        },
        {
          "output_type": "stream",
          "name": "stdout",
          "text": [
            "Mean accuracy 0.799 Mean precision 0.826 Mean recall 0.759 Mean F1 0.791 Mean ROC AUC 0.884 {'n_neighbors': 75, 'p': 1, 'weights': 'uniform'}\n",
            "Mean accuracy 0.93 Mean precision 0.878 Mean recall 1.0 Mean F1 0.935 Mean ROC AUC 1.0 {'n_neighbors': 197, 'p': 1, 'weights': 'distance'}\n",
            "Mean accuracy 0.905 Mean precision 0.841 Mean recall 1.0 Mean F1 0.913 Mean ROC AUC 0.999 {'n_neighbors': 47, 'p': 2, 'weights': 'distance'}\n",
            "Mean accuracy 0.93 Mean precision 0.877 Mean recall 1.0 Mean F1 0.934 Mean ROC AUC 1.0 {'n_neighbors': 188, 'p': 1, 'weights': 'distance'}\n",
            "Mean accuracy 0.794 Mean precision 0.842 Mean recall 0.723 Mean F1 0.778 Mean ROC AUC 0.883 {'n_neighbors': 186, 'p': 1, 'weights': 'uniform'}\n",
            "Mean accuracy 0.916 Mean precision 0.857 Mean recall 1.0 Mean F1 0.923 Mean ROC AUC 1.0 {'n_neighbors': 190, 'p': 2, 'weights': 'distance'}\n",
            "Mean accuracy 0.786 Mean precision 0.817 Mean recall 0.738 Mean F1 0.775 Mean ROC AUC 0.873 {'n_neighbors': 158, 'p': 2, 'weights': 'uniform'}\n",
            "Mean accuracy 0.791 Mean precision 0.812 Mean recall 0.759 Mean F1 0.784 Mean ROC AUC 0.878 {'n_neighbors': 95, 'p': 2, 'weights': 'uniform'}\n",
            "Mean accuracy 0.795 Mean precision 0.837 Mean recall 0.734 Mean F1 0.782 Mean ROC AUC 0.884 {'n_neighbors': 151, 'p': 1, 'weights': 'uniform'}\n",
            "Mean accuracy 0.912 Mean precision 0.851 Mean recall 0.999 Mean F1 0.919 Mean ROC AUC 0.999 {'n_neighbors': 27, 'p': 1, 'weights': 'distance'}\n",
            "Mean accuracy 0.794 Mean precision 0.843 Mean recall 0.723 Mean F1 0.779 Mean ROC AUC 0.882 {'n_neighbors': 190, 'p': 1, 'weights': 'uniform'}\n",
            "Mean accuracy 0.899 Mean precision 0.833 Mean recall 0.999 Mean F1 0.908 Mean ROC AUC 0.998 {'n_neighbors': 26, 'p': 2, 'weights': 'distance'}\n",
            "Mean accuracy 0.795 Mean precision 0.841 Mean recall 0.729 Mean F1 0.781 Mean ROC AUC 0.883 {'n_neighbors': 179, 'p': 1, 'weights': 'uniform'}\n",
            "Mean accuracy 0.904 Mean precision 0.84 Mean recall 1.0 Mean F1 0.913 Mean ROC AUC 0.999 {'n_neighbors': 40, 'p': 2, 'weights': 'distance'}\n",
            "Mean accuracy 0.914 Mean precision 0.854 Mean recall 1.0 Mean F1 0.921 Mean ROC AUC 1.0 {'n_neighbors': 165, 'p': 2, 'weights': 'distance'}\n",
            "Mean accuracy 0.79 Mean precision 0.807 Mean recall 0.764 Mean F1 0.785 Mean ROC AUC 0.88 {'n_neighbors': 67, 'p': 2, 'weights': 'uniform'}\n",
            "Mean accuracy 0.912 Mean precision 0.851 Mean recall 0.999 Mean F1 0.919 Mean ROC AUC 1.0 {'n_neighbors': 125, 'p': 2, 'weights': 'distance'}\n",
            "Mean accuracy 0.915 Mean precision 0.855 Mean recall 1.0 Mean F1 0.922 Mean ROC AUC 1.0 {'n_neighbors': 153, 'p': 2, 'weights': 'distance'}\n",
            "Mean accuracy 0.925 Mean precision 0.87 Mean recall 1.0 Mean F1 0.93 Mean ROC AUC 1.0 {'n_neighbors': 138, 'p': 1, 'weights': 'distance'}\n",
            "Mean accuracy 0.925 Mean precision 0.87 Mean recall 1.0 Mean F1 0.93 Mean ROC AUC 1.0 {'n_neighbors': 123, 'p': 1, 'weights': 'distance'}\n",
            "Best hyperparameters: KNeighborsClassifier(n_neighbors=188, p=1, weights='distance')\n"
          ]
        }
      ]
    },
    {
      "cell_type": "markdown",
      "source": [
        "### Naive Bayes"
      ],
      "metadata": {
        "id": "6xxzte06jOBV"
      }
    },
    {
      "cell_type": "code",
      "source": [
        "# randomized search for optimal hyperparameters\n",
        "params_nb = {\n",
        "    'var_smoothing': [1e-13, 1e-12, 1e-11, 1e-10, 1e-9, 1e-8, 1e-7, 1e-6, 1e-5],\n",
        "}\n",
        "\n",
        "nb_clf = GaussianNB()\n",
        "rnd_search_nb = RandomizedSearchCV(nb_clf, param_distributions=params_nb, n_iter=9, cv=5, scoring=scoring, n_jobs=-1, refit='roc_auc')\n",
        "rnd_search_nb.fit(X_train, Y_train)\n",
        "\n",
        "cvres_nb = rnd_search_nb.cv_results_\n",
        "for mean_accuracy, mean_precision, mean_recall, mean_f1, mean_auc_roc, params in zip(cvres_nb[\"mean_test_accuracy\"], cvres_nb[\"mean_test_precision\"], cvres_nb[\"mean_test_recall\"], cvres_nb[\"mean_test_f1\"], cvres_nb[\"mean_test_roc_auc\"], cvres_nb[\"params\"]):\n",
        "  print(\"Mean accuracy\", round(mean_accuracy,3), \"Mean precision\", round(mean_precision,3), \"Mean recall\", round(mean_recall,3), \"Mean F1\", round(mean_f1,3), \"Mean ROC AUC\", round(mean_auc_roc,3), params)\n",
        "\n",
        "# Choosing the best random forest model from random search\n",
        "print(\"Best hyperparameters:\", rnd_search_nb.best_estimator_)"
      ],
      "metadata": {
        "colab": {
          "base_uri": "https://localhost:8080/"
        },
        "id": "HpC-p19r_u4t",
        "outputId": "d3bec510-3f95-4a7a-a737-bc61322a6afe"
      },
      "execution_count": null,
      "outputs": [
        {
          "output_type": "stream",
          "name": "stdout",
          "text": [
            "Mean accuracy 0.553 Mean precision 0.528 Mean recall 0.988 Mean F1 0.688 Mean ROC AUC 0.611 {'var_smoothing': 1e-13}\n",
            "Mean accuracy 0.556 Mean precision 0.53 Mean recall 0.987 Mean F1 0.689 Mean ROC AUC 0.631 {'var_smoothing': 1e-12}\n",
            "Mean accuracy 0.559 Mean precision 0.532 Mean recall 0.986 Mean F1 0.691 Mean ROC AUC 0.665 {'var_smoothing': 1e-11}\n",
            "Mean accuracy 0.563 Mean precision 0.534 Mean recall 0.985 Mean F1 0.693 Mean ROC AUC 0.704 {'var_smoothing': 1e-10}\n",
            "Mean accuracy 0.569 Mean precision 0.538 Mean recall 0.984 Mean F1 0.695 Mean ROC AUC 0.766 {'var_smoothing': 1e-09}\n",
            "Mean accuracy 0.576 Mean precision 0.542 Mean recall 0.98 Mean F1 0.698 Mean ROC AUC 0.787 {'var_smoothing': 1e-08}\n",
            "Mean accuracy 0.588 Mean precision 0.55 Mean recall 0.973 Mean F1 0.702 Mean ROC AUC 0.791 {'var_smoothing': 1e-07}\n",
            "Mean accuracy 0.606 Mean precision 0.562 Mean recall 0.958 Mean F1 0.709 Mean ROC AUC 0.792 {'var_smoothing': 1e-06}\n",
            "Mean accuracy 0.626 Mean precision 0.578 Mean recall 0.938 Mean F1 0.715 Mean ROC AUC 0.792 {'var_smoothing': 1e-05}\n",
            "Best hyperparameters: GaussianNB(var_smoothing=1e-05)\n"
          ]
        }
      ]
    },
    {
      "cell_type": "markdown",
      "source": [
        "### Gradient Boosting"
      ],
      "metadata": {
        "id": "7TuaV37rjPhp"
      }
    },
    {
      "cell_type": "code",
      "source": [
        "# randomized search for optimal hyperparameters\n",
        "params_gb = {\n",
        "    'learning_rate': [0.0001, 0.002, 0.01, 0.1, 0.1, 0.2, 0.3, 0.5, 1],\n",
        "    'n_estimators': randint(low=1, high=500),\n",
        "    'max_depth': randint(low=1, high=32),\n",
        "    'min_samples_split': np.linspace(0.1, 1.0, 10, endpoint=True),\n",
        "    'min_samples_leaf': np.linspace(0.1, 0.5, 5, endpoint=True),\n",
        "    'max_features': randint(low=1, high=28),\n",
        "}\n",
        "\n",
        "gb_clf = GradientBoostingClassifier(random_state=14)\n",
        "rnd_search_gb = RandomizedSearchCV(gb_clf, param_distributions=params_gb, n_iter=15, cv=5, scoring=scoring, n_jobs=-1, refit='roc_auc')\n",
        "rnd_search_gb.fit(X_train, Y_train)\n",
        "\n",
        "cvres_gb = rnd_search_gb.cv_results_\n",
        "for mean_accuracy, mean_precision, mean_recall, mean_f1, mean_auc_roc, params in zip(cvres_gb[\"mean_test_accuracy\"], cvres_gb[\"mean_test_precision\"], cvres_gb[\"mean_test_recall\"], cvres_gb[\"mean_test_f1\"], cvres_gb[\"mean_test_roc_auc\"], cvres_gb[\"params\"]):\n",
        "  print(\"Mean accuracy\", round(mean_accuracy,3), \"Mean precision\", round(mean_precision,3), \"Mean recall\", round(mean_recall,3), \"Mean F1\", round(mean_f1,3), \"Mean ROC AUC\", round(mean_auc_roc,3), params)\n",
        "\n",
        "# Choosing the best random forest model from random search\n",
        "print(\"Best hyperparameters:\", rnd_search_gb.best_estimator_)"
      ],
      "metadata": {
        "colab": {
          "base_uri": "https://localhost:8080/"
        },
        "id": "6vJw6S27BTEU",
        "outputId": "0f264e60-753a-4507-ea78-a5e6c19e41bc"
      },
      "execution_count": null,
      "outputs": [
        {
          "output_type": "stream",
          "name": "stdout",
          "text": [
            "Mean accuracy 0.844 Mean precision 0.877 Mean recall 0.801 Mean F1 0.837 Mean ROC AUC 0.869 {'learning_rate': 0.01, 'max_depth': 18, 'max_features': 26, 'min_samples_leaf': 0.4, 'min_samples_split': 0.8, 'n_estimators': 130}\n",
            "Mean accuracy 0.523 Mean precision 0.324 Mean recall 0.523 Mean F1 0.39 Mean ROC AUC 0.533 {'learning_rate': 0.002, 'max_depth': 20, 'max_features': 19, 'min_samples_leaf': 0.5, 'min_samples_split': 0.4, 'n_estimators': 231}\n",
            "Mean accuracy 0.848 Mean precision 0.866 Mean recall 0.824 Mean F1 0.845 Mean ROC AUC 0.923 {'learning_rate': 0.2, 'max_depth': 1, 'max_features': 14, 'min_samples_leaf': 0.1, 'min_samples_split': 0.4, 'n_estimators': 294}\n",
            "Mean accuracy 0.523 Mean precision 0.324 Mean recall 0.523 Mean F1 0.39 Mean ROC AUC 0.533 {'learning_rate': 0.2, 'max_depth': 15, 'max_features': 20, 'min_samples_leaf': 0.5, 'min_samples_split': 0.7000000000000001, 'n_estimators': 478}\n",
            "Mean accuracy 0.87 Mean precision 0.871 Mean recall 0.869 Mean F1 0.87 Mean ROC AUC 0.938 {'learning_rate': 1, 'max_depth': 11, 'max_features': 24, 'min_samples_leaf': 0.2, 'min_samples_split': 0.6, 'n_estimators': 251}\n",
            "Mean accuracy 0.848 Mean precision 0.863 Mean recall 0.828 Mean F1 0.845 Mean ROC AUC 0.924 {'learning_rate': 1, 'max_depth': 1, 'max_features': 7, 'min_samples_leaf': 0.1, 'min_samples_split': 0.9, 'n_estimators': 179}\n",
            "Mean accuracy 0.523 Mean precision 0.324 Mean recall 0.523 Mean F1 0.39 Mean ROC AUC 0.533 {'learning_rate': 1, 'max_depth': 22, 'max_features': 18, 'min_samples_leaf': 0.5, 'min_samples_split': 0.2, 'n_estimators': 99}\n",
            "Mean accuracy 0.836 Mean precision 0.877 Mean recall 0.781 Mean F1 0.826 Mean ROC AUC 0.876 {'learning_rate': 0.0001, 'max_depth': 12, 'max_features': 17, 'min_samples_leaf': 0.2, 'min_samples_split': 0.7000000000000001, 'n_estimators': 281}\n",
            "Mean accuracy 0.844 Mean precision 0.877 Mean recall 0.8 Mean F1 0.837 Mean ROC AUC 0.895 {'learning_rate': 0.0001, 'max_depth': 29, 'max_features': 24, 'min_samples_leaf': 0.2, 'min_samples_split': 0.2, 'n_estimators': 13}\n",
            "Mean accuracy 0.523 Mean precision 0.324 Mean recall 0.523 Mean F1 0.39 Mean ROC AUC 0.533 {'learning_rate': 0.2, 'max_depth': 12, 'max_features': 25, 'min_samples_leaf': 0.5, 'min_samples_split': 0.9, 'n_estimators': 236}\n",
            "Mean accuracy 0.523 Mean precision 0.324 Mean recall 0.523 Mean F1 0.39 Mean ROC AUC 0.533 {'learning_rate': 0.3, 'max_depth': 20, 'max_features': 27, 'min_samples_leaf': 0.5, 'min_samples_split': 0.7000000000000001, 'n_estimators': 426}\n",
            "Mean accuracy 0.841 Mean precision 0.878 Mean recall 0.792 Mean F1 0.833 Mean ROC AUC 0.917 {'learning_rate': 0.002, 'max_depth': 18, 'max_features': 26, 'min_samples_leaf': 0.1, 'min_samples_split': 0.1, 'n_estimators': 233}\n",
            "Mean accuracy 0.85 Mean precision 0.867 Mean recall 0.828 Mean F1 0.847 Mean ROC AUC 0.923 {'learning_rate': 0.5, 'max_depth': 21, 'max_features': 2, 'min_samples_leaf': 0.1, 'min_samples_split': 1.0, 'n_estimators': 471}\n",
            "Mean accuracy 0.844 Mean precision 0.878 Mean recall 0.8 Mean F1 0.837 Mean ROC AUC 0.875 {'learning_rate': 0.1, 'max_depth': 8, 'max_features': 5, 'min_samples_leaf': 0.4, 'min_samples_split': 1.0, 'n_estimators': 270}\n",
            "Mean accuracy 0.523 Mean precision 0.324 Mean recall 0.523 Mean F1 0.39 Mean ROC AUC 0.533 {'learning_rate': 0.1, 'max_depth': 24, 'max_features': 10, 'min_samples_leaf': 0.5, 'min_samples_split': 0.4, 'n_estimators': 417}\n",
            "Best hyperparameters: GradientBoostingClassifier(learning_rate=1, max_depth=11, max_features=24,\n",
            "                           min_samples_leaf=0.2, min_samples_split=0.6,\n",
            "                           n_estimators=251, random_state=14)\n"
          ]
        }
      ]
    },
    {
      "cell_type": "markdown",
      "source": [
        "### XGBoost"
      ],
      "metadata": {
        "id": "0qfUIPQijSJ3"
      }
    },
    {
      "cell_type": "code",
      "source": [
        "# randomized search for optimal hyperparameters\n",
        "params_xgb = {\n",
        "    'alpha': randint(low=0, high=1000),\n",
        "    'min_child_weight': randint(low=0, high=120),\n",
        "    'subsample': [0.5, 0.6, 0.7, 0.8, 0.9, 1],\n",
        "    'eta': [0.5, 0.6, 0.7, 0.8, 0.9, 1],\n",
        "    'num_round': randint(low=1, high=4000),\n",
        "}\n",
        "\n",
        "xgb_clf = XGBClassifier(random_state=14)\n",
        "rnd_search_xgb = RandomizedSearchCV(xgb_clf, param_distributions=params_xgb, n_iter=30, cv=5, scoring=scoring, n_jobs=-1, refit='roc_auc')\n",
        "rnd_search_xgb.fit(X_train, Y_train)\n",
        "\n",
        "cvres_xgb = rnd_search_xgb.cv_results_\n",
        "for mean_accuracy, mean_precision, mean_recall, mean_f1, mean_auc_roc, params in zip(cvres_xgb[\"mean_test_accuracy\"], cvres_xgb[\"mean_test_precision\"], cvres_xgb[\"mean_test_recall\"], cvres_xgb[\"mean_test_f1\"], cvres_xgb[\"mean_test_roc_auc\"], cvres_xgb[\"params\"]):\n",
        "  print(\"Mean accuracy\", round(mean_accuracy,3), \"Mean precision\", round(mean_precision,3), \"Mean recall\", round(mean_recall,3), \"Mean F1\", round(mean_f1,3), \"Mean ROC AUC\", round(mean_auc_roc,3), params)\n",
        "\n",
        "# Choosing the best random forest model from random search\n",
        "print(\"Best hyperparameters:\", rnd_search_xgb.best_estimator_)"
      ],
      "metadata": {
        "colab": {
          "base_uri": "https://localhost:8080/"
        },
        "id": "bOmM3rixGoUq",
        "outputId": "3885bf7b-0ade-448a-a6f0-f213b7af00f1"
      },
      "execution_count": null,
      "outputs": [
        {
          "output_type": "stream",
          "name": "stdout",
          "text": [
            "Mean accuracy 0.871 Mean precision 0.868 Mean recall 0.875 Mean F1 0.871 Mean ROC AUC 0.945 {'alpha': 575, 'eta': 0.9, 'min_child_weight': 3, 'num_round': 362, 'subsample': 0.7}\n",
            "Mean accuracy 0.867 Mean precision 0.865 Mean recall 0.871 Mean F1 0.868 Mean ROC AUC 0.943 {'alpha': 300, 'eta': 1, 'min_child_weight': 17, 'num_round': 2412, 'subsample': 0.8}\n",
            "Mean accuracy 0.869 Mean precision 0.866 Mean recall 0.873 Mean F1 0.869 Mean ROC AUC 0.944 {'alpha': 567, 'eta': 0.9, 'min_child_weight': 11, 'num_round': 3201, 'subsample': 0.8}\n",
            "Mean accuracy 0.864 Mean precision 0.863 Mean recall 0.867 Mean F1 0.865 Mean ROC AUC 0.941 {'alpha': 515, 'eta': 0.7, 'min_child_weight': 54, 'num_round': 2287, 'subsample': 1}\n",
            "Mean accuracy 0.867 Mean precision 0.864 Mean recall 0.871 Mean F1 0.868 Mean ROC AUC 0.943 {'alpha': 473, 'eta': 0.9, 'min_child_weight': 21, 'num_round': 1441, 'subsample': 0.6}\n",
            "Mean accuracy 0.862 Mean precision 0.863 Mean recall 0.862 Mean F1 0.862 Mean ROC AUC 0.939 {'alpha': 872, 'eta': 1, 'min_child_weight': 113, 'num_round': 2613, 'subsample': 1}\n",
            "Mean accuracy 0.863 Mean precision 0.863 Mean recall 0.863 Mean F1 0.863 Mean ROC AUC 0.938 {'alpha': 223, 'eta': 0.7, 'min_child_weight': 80, 'num_round': 2519, 'subsample': 0.6}\n",
            "Mean accuracy 0.863 Mean precision 0.862 Mean recall 0.865 Mean F1 0.863 Mean ROC AUC 0.937 {'alpha': 348, 'eta': 0.7, 'min_child_weight': 115, 'num_round': 1002, 'subsample': 0.8}\n",
            "Mean accuracy 0.862 Mean precision 0.863 Mean recall 0.861 Mean F1 0.862 Mean ROC AUC 0.938 {'alpha': 83, 'eta': 0.7, 'min_child_weight': 111, 'num_round': 3616, 'subsample': 0.9}\n",
            "Mean accuracy 0.865 Mean precision 0.864 Mean recall 0.866 Mean F1 0.865 Mean ROC AUC 0.941 {'alpha': 270, 'eta': 0.7, 'min_child_weight': 43, 'num_round': 2918, 'subsample': 0.9}\n",
            "Mean accuracy 0.865 Mean precision 0.865 Mean recall 0.864 Mean F1 0.865 Mean ROC AUC 0.942 {'alpha': 146, 'eta': 0.7, 'min_child_weight': 35, 'num_round': 2116, 'subsample': 0.5}\n",
            "Mean accuracy 0.866 Mean precision 0.865 Mean recall 0.867 Mean F1 0.866 Mean ROC AUC 0.942 {'alpha': 382, 'eta': 1, 'min_child_weight': 32, 'num_round': 2767, 'subsample': 0.7}\n",
            "Mean accuracy 0.863 Mean precision 0.865 Mean recall 0.861 Mean F1 0.863 Mean ROC AUC 0.939 {'alpha': 93, 'eta': 0.7, 'min_child_weight': 83, 'num_round': 3896, 'subsample': 0.8}\n",
            "Mean accuracy 0.866 Mean precision 0.865 Mean recall 0.867 Mean F1 0.866 Mean ROC AUC 0.941 {'alpha': 491, 'eta': 0.8, 'min_child_weight': 66, 'num_round': 247, 'subsample': 0.9}\n",
            "Mean accuracy 0.863 Mean precision 0.863 Mean recall 0.864 Mean F1 0.863 Mean ROC AUC 0.938 {'alpha': 943, 'eta': 0.8, 'min_child_weight': 76, 'num_round': 70, 'subsample': 0.6}\n",
            "Mean accuracy 0.863 Mean precision 0.862 Mean recall 0.866 Mean F1 0.864 Mean ROC AUC 0.939 {'alpha': 97, 'eta': 0.7, 'min_child_weight': 74, 'num_round': 1176, 'subsample': 0.6}\n",
            "Mean accuracy 0.863 Mean precision 0.864 Mean recall 0.863 Mean F1 0.863 Mean ROC AUC 0.939 {'alpha': 154, 'eta': 0.8, 'min_child_weight': 87, 'num_round': 2354, 'subsample': 0.8}\n",
            "Mean accuracy 0.864 Mean precision 0.864 Mean recall 0.865 Mean F1 0.864 Mean ROC AUC 0.939 {'alpha': 834, 'eta': 0.9, 'min_child_weight': 67, 'num_round': 1311, 'subsample': 0.6}\n",
            "Mean accuracy 0.87 Mean precision 0.867 Mean recall 0.875 Mean F1 0.871 Mean ROC AUC 0.946 {'alpha': 652, 'eta': 0.8, 'min_child_weight': 0, 'num_round': 3708, 'subsample': 0.6}\n",
            "Mean accuracy 0.864 Mean precision 0.864 Mean recall 0.865 Mean F1 0.864 Mean ROC AUC 0.939 {'alpha': 124, 'eta': 0.8, 'min_child_weight': 71, 'num_round': 2923, 'subsample': 0.7}\n",
            "Mean accuracy 0.865 Mean precision 0.864 Mean recall 0.866 Mean F1 0.865 Mean ROC AUC 0.941 {'alpha': 134, 'eta': 0.9, 'min_child_weight': 47, 'num_round': 3133, 'subsample': 0.9}\n",
            "Mean accuracy 0.863 Mean precision 0.86 Mean recall 0.867 Mean F1 0.863 Mean ROC AUC 0.935 {'alpha': 745, 'eta': 0.8, 'min_child_weight': 92, 'num_round': 723, 'subsample': 0.5}\n",
            "Mean accuracy 0.863 Mean precision 0.862 Mean recall 0.864 Mean F1 0.863 Mean ROC AUC 0.938 {'alpha': 809, 'eta': 0.5, 'min_child_weight': 91, 'num_round': 16, 'subsample': 0.7}\n",
            "Mean accuracy 0.862 Mean precision 0.857 Mean recall 0.868 Mean F1 0.863 Mean ROC AUC 0.933 {'alpha': 191, 'eta': 0.6, 'min_child_weight': 116, 'num_round': 3377, 'subsample': 0.5}\n",
            "Mean accuracy 0.864 Mean precision 0.862 Mean recall 0.867 Mean F1 0.865 Mean ROC AUC 0.942 {'alpha': 436, 'eta': 1, 'min_child_weight': 39, 'num_round': 1685, 'subsample': 1}\n",
            "Mean accuracy 0.864 Mean precision 0.864 Mean recall 0.865 Mean F1 0.864 Mean ROC AUC 0.94 {'alpha': 751, 'eta': 0.8, 'min_child_weight': 81, 'num_round': 2449, 'subsample': 1}\n",
            "Mean accuracy 0.863 Mean precision 0.863 Mean recall 0.864 Mean F1 0.864 Mean ROC AUC 0.938 {'alpha': 665, 'eta': 0.8, 'min_child_weight': 66, 'num_round': 1129, 'subsample': 0.5}\n",
            "Mean accuracy 0.861 Mean precision 0.858 Mean recall 0.866 Mean F1 0.862 Mean ROC AUC 0.934 {'alpha': 527, 'eta': 1, 'min_child_weight': 118, 'num_round': 574, 'subsample': 0.6}\n",
            "Mean accuracy 0.869 Mean precision 0.866 Mean recall 0.874 Mean F1 0.87 Mean ROC AUC 0.945 {'alpha': 728, 'eta': 0.8, 'min_child_weight': 2, 'num_round': 1158, 'subsample': 0.9}\n",
            "Mean accuracy 0.863 Mean precision 0.865 Mean recall 0.861 Mean F1 0.863 Mean ROC AUC 0.939 {'alpha': 553, 'eta': 1, 'min_child_weight': 91, 'num_round': 907, 'subsample': 0.9}\n",
            "Best hyperparameters: XGBClassifier(alpha=652, eta=0.8, min_child_weight=0, num_round=3708,\n",
            "              random_state=14, subsample=0.6)\n"
          ]
        }
      ]
    },
    {
      "cell_type": "markdown",
      "source": [
        "## Examine feature importance"
      ],
      "metadata": {
        "id": "QUjMYJUVcnc6"
      }
    },
    {
      "cell_type": "code",
      "source": [
        "# Random Forest\n",
        "rf_feature_importances = rnd_search_rf.best_estimator_.feature_importances_\n",
        "\n",
        "cat_encoder = full_pipeline.named_transformers_[\"cat\"]\n",
        "cat_one_hot_attribs = list(cat_encoder.categories_[0])\n",
        "attributes = num_attribs + cat_one_hot_attribs\n",
        "sorted(zip(rf_feature_importances, attributes), reverse=True)\n",
        "\n",
        "# PageValues is the most important feature in making accurate predictions by far"
      ],
      "metadata": {
        "colab": {
          "base_uri": "https://localhost:8080/"
        },
        "id": "ZHQ8JG_BmZIP",
        "outputId": "f304e351-3140-4faa-b432-409e1209e06f"
      },
      "execution_count": null,
      "outputs": [
        {
          "output_type": "execute_result",
          "data": {
            "text/plain": [
              "[(0.6531546528899365, 'PageValues'),\n",
              " (0.08732788943991492, 'ExitRates'),\n",
              " (0.05760156533027247, 'ProductRelated_Duration'),\n",
              " (0.05643842874604787, 'Nov'),\n",
              " (0.030118544485193598, 'ProductRelated'),\n",
              " (0.023040171290128326, 'BounceRates'),\n",
              " (0.017005128714208832, 'Administrative'),\n",
              " (0.01554927453246717, 'Administrative_Duration'),\n",
              " (0.012466102471795876, 'May'),\n",
              " (0.006818786696807333, 'Mar'),\n",
              " (0.004155765867960313, 'Informational_Duration'),\n",
              " (0.002998515558624993, 'Informational'),\n",
              " (0.002353721634279228, 'Oct'),\n",
              " (0.002141866395099658, 'Sep'),\n",
              " (0.001404531674968033, 'SpecialDay'),\n",
              " (0.001315865970876867, 'Dec'),\n",
              " (0.0008954357979443223, 'Jul'),\n",
              " (0.000475506598838734, 'Aug'),\n",
              " (0.00034581786182183265, 'Weekend'),\n",
              " (0.00016101897545380453, 'June'),\n",
              " (2.749867752834886e-05, 'Feb')]"
            ]
          },
          "metadata": {},
          "execution_count": 28
        }
      ]
    },
    {
      "cell_type": "code",
      "source": [
        "# Gradient Boosting\n",
        "gb_feature_importances = rnd_search_gb.best_estimator_.feature_importances_\n",
        "sorted(zip(gb_feature_importances, attributes), reverse=True)\n",
        "\n",
        "# only some months are considered to be impactful on prediction accuracy, worth investigating further"
      ],
      "metadata": {
        "colab": {
          "base_uri": "https://localhost:8080/"
        },
        "id": "JQmRp5J4wgt5",
        "outputId": "741ee65f-620d-4cf2-fe1b-bde4732eda31"
      },
      "execution_count": null,
      "outputs": [
        {
          "output_type": "execute_result",
          "data": {
            "text/plain": [
              "[(0.853117021594681, 'PageValues'),\n",
              " (0.05610085090322287, 'Nov'),\n",
              " (0.017538104881990986, 'ProductRelated'),\n",
              " (0.014020721034137212, 'Administrative_Duration'),\n",
              " (0.013179161647129402, 'ExitRates'),\n",
              " (0.012799214320433754, 'ProductRelated_Duration'),\n",
              " (0.009178389869657482, 'BounceRates'),\n",
              " (0.006936682702311715, 'Administrative'),\n",
              " (0.006830462933481231, 'May'),\n",
              " (0.0016652548810675266, 'Informational_Duration'),\n",
              " (0.0006914052274534316, 'Informational'),\n",
              " (0.00010981497425896581, 'Weekend'),\n",
              " (0.0, 'SpecialDay'),\n",
              " (0.0, 'Sep'),\n",
              " (0.0, 'Oct'),\n",
              " (0.0, 'Mar'),\n",
              " (0.0, 'June'),\n",
              " (0.0, 'Jul'),\n",
              " (0.0, 'Feb'),\n",
              " (0.0, 'Dec'),\n",
              " (0.0, 'Aug')]"
            ]
          },
          "metadata": {},
          "execution_count": 29
        }
      ]
    },
    {
      "cell_type": "code",
      "source": [
        "# XGBoost\n",
        "xgb_feature_importances = rnd_search_xgb.best_estimator_.feature_importances_\n",
        "sorted(zip(xgb_feature_importances, attributes), reverse=True)\n",
        "\n",
        "# November is consistently ranked high in feature importance\n",
        "# feature importance here ranks several months higher than other page value related metrics"
      ],
      "metadata": {
        "colab": {
          "base_uri": "https://localhost:8080/"
        },
        "id": "8qsMHoB9wfIk",
        "outputId": "f07684b8-df72-4469-f016-3e23424a394b"
      },
      "execution_count": null,
      "outputs": [
        {
          "output_type": "execute_result",
          "data": {
            "text/plain": [
              "[(0.27503315, 'PageValues'),\n",
              " (0.08546452, 'Nov'),\n",
              " (0.055032693, 'Mar'),\n",
              " (0.04631206, 'May'),\n",
              " (0.024049016, 'Sep'),\n",
              " (0.020678254, 'ProductRelated'),\n",
              " (0.018467665, 'BounceRates'),\n",
              " (0.016579432, 'ExitRates'),\n",
              " (0.016324468, 'ProductRelated_Duration'),\n",
              " (0.0155594405, 'Administrative_Duration'),\n",
              " (0.015194254, 'Administrative'),\n",
              " (0.012255902, 'Oct'),\n",
              " (0.012003, 'Dec'),\n",
              " (0.010547569, 'Informational'),\n",
              " (0.010018959, 'Jul'),\n",
              " (0.0089601055, 'Informational_Duration'),\n",
              " (0.008354536, 'Feb'),\n",
              " (0.00808547, 'Weekend'),\n",
              " (0.007955417, 'Aug'),\n",
              " (0.006080012, 'June'),\n",
              " (0.004736453, 'SpecialDay')]"
            ]
          },
          "metadata": {},
          "execution_count": 30
        }
      ]
    },
    {
      "cell_type": "markdown",
      "source": [
        "## Evaluate performance of models on test dataset"
      ],
      "metadata": {
        "id": "hTR8qeCrdVFg"
      }
    },
    {
      "cell_type": "code",
      "source": [
        "# Decision Tree\n",
        "final_model_dt = rnd_search_dt.best_estimator_ # Choosing the best hyperparameters\n",
        "final_predictions_dt = final_model_dt.predict(X_test) # Making predictions on test data\n",
        "final_accuracy_dt = accuracy_score(Y_test, final_predictions_dt) # Generate scores\n",
        "final_precision_dt = precision_score(Y_test, final_predictions_dt)\n",
        "final_recall_dt = recall_score(Y_test, final_predictions_dt)\n",
        "final_f1_dt = f1_score(Y_test, final_predictions_dt)\n",
        "final_auc_dt = roc_auc_score(Y_test, final_predictions_dt)\n",
        "\n",
        "# Random Forest\n",
        "final_model_rf = rnd_search_rf.best_estimator_\n",
        "final_predictions_rf = final_model_rf.predict(X_test)\n",
        "final_accuracy_rf = accuracy_score(Y_test, final_predictions_rf)\n",
        "final_precision_rf= precision_score(Y_test, final_predictions_rf)\n",
        "final_recall_rf = recall_score(Y_test, final_predictions_rf)\n",
        "final_f1_rf = f1_score(Y_test, final_predictions_rf)\n",
        "final_auc_rf = roc_auc_score(Y_test, final_predictions_rf)\n",
        "\n",
        "# KNN\n",
        "final_model_knn = rnd_search_knn.best_estimator_\n",
        "final_predictions_knn = final_model_knn.predict(X_test)\n",
        "final_accuracy_knn = accuracy_score(Y_test, final_predictions_knn)\n",
        "final_precision_knn = precision_score(Y_test, final_predictions_knn)\n",
        "final_recall_knn = recall_score(Y_test, final_predictions_knn)\n",
        "final_f1_knn = f1_score(Y_test, final_predictions_knn)\n",
        "final_auc_knn = roc_auc_score(Y_test, final_predictions_knn)\n",
        "\n",
        "# Naive Bayes\n",
        "final_model_nb = rnd_search_nb.best_estimator_\n",
        "final_predictions_nb = final_model_nb.predict(X_test)\n",
        "final_accuracy_nb = accuracy_score(Y_test, final_predictions_nb)\n",
        "final_precision_nb = precision_score(Y_test, final_predictions_nb)\n",
        "final_recall_nb = recall_score(Y_test, final_predictions_nb)\n",
        "final_f1_nb = f1_score(Y_test, final_predictions_nb)\n",
        "final_auc_nb = roc_auc_score(Y_test, final_predictions_nb)\n",
        "\n",
        "# Gradient Boosting\n",
        "final_model_gb = rnd_search_gb.best_estimator_\n",
        "final_predictions_gb = final_model_gb.predict(X_test)\n",
        "final_accuracy_gb = accuracy_score(Y_test, final_predictions_gb)\n",
        "final_precision_gb = precision_score(Y_test, final_predictions_gb)\n",
        "final_recall_gb = recall_score(Y_test, final_predictions_gb)\n",
        "final_f1_gb = f1_score(Y_test, final_predictions_gb)\n",
        "final_auc_gb = roc_auc_score(Y_test, final_predictions_gb)\n",
        "\n",
        "# XGBoost\n",
        "final_model_xgb = rnd_search_xgb.best_estimator_\n",
        "final_predictions_xgb = final_model_xgb.predict(X_test)\n",
        "final_accuracy_xgb = accuracy_score(Y_test, final_predictions_xgb)\n",
        "final_precision_xgb = precision_score(Y_test, final_predictions_xgb)\n",
        "final_recall_xgb = recall_score(Y_test, final_predictions_xgb)\n",
        "final_f1_xgb = f1_score(Y_test, final_predictions_xgb)\n",
        "final_auc_xgb = roc_auc_score(Y_test, final_predictions_xgb)\n",
        "\n",
        "print(\"Decision Tree\")\n",
        "print(\"Accuracy:\", round(final_accuracy_dt,4))\n",
        "print(\"Precision:\", round(final_precision_dt,4))\n",
        "print(\"Recall:\", round(final_recall_dt,4))\n",
        "print(\"F1:\", round(final_f1_dt,4))\n",
        "print(\"ROC AUC:\", round(final_auc_dt,4))\n",
        "print(\"\\n\")\n",
        "\n",
        "print(\"Random Forest\")\n",
        "print(\"Accuracy:\", round(final_accuracy_rf,4))\n",
        "print(\"Precision:\", round(final_precision_rf,4))\n",
        "print(\"Recall:\", round(final_recall_rf,4))\n",
        "print(\"F1:\", round(final_f1_rf,4))\n",
        "print(\"ROC AUC:\", round(final_auc_rf,4))\n",
        "print(\"\\n\")\n",
        "\n",
        "print(\"KNN\")\n",
        "print(\"Accuracy:\", round(final_accuracy_knn,4))\n",
        "print(\"Precision:\", round(final_precision_knn,4))\n",
        "print(\"Recall:\", round(final_recall_knn,4))\n",
        "print(\"F1:\", round(final_f1_knn,4))\n",
        "print(\"ROC AUC:\", round(final_auc_knn,4))\n",
        "print(\"\\n\")\n",
        "\n",
        "print(\"Naive Bayes\")\n",
        "print(\"Accuracy:\", round(final_accuracy_nb,4))\n",
        "print(\"Precision:\", round(final_precision_nb,4))\n",
        "print(\"Recall:\", round(final_recall_nb,4))\n",
        "print(\"F1:\", round(final_f1_nb,4))\n",
        "print(\"ROC AUC:\", round(final_auc_nb,4))\n",
        "print(\"\\n\")\n",
        "\n",
        "print(\"Gradient Boosting\")\n",
        "print(\"Accuracy:\", round(final_accuracy_gb,4))\n",
        "print(\"Precision:\", round(final_precision_gb,4))\n",
        "print(\"Recall:\", round(final_recall_gb,4))\n",
        "print(\"F1:\", round(final_f1_gb,4))\n",
        "print(\"ROC AUC:\", round(final_auc_gb,4))\n",
        "print(\"\\n\")\n",
        "\n",
        "print(\"XGBoost\")\n",
        "print(\"Accuracy:\", round(final_accuracy_xgb,4))\n",
        "print(\"Precision:\", round(final_precision_xgb,4))\n",
        "print(\"Recall:\", round(final_recall_xgb,4))\n",
        "print(\"F1:\", round(final_f1_xgb,4))\n",
        "print(\"ROC AUC:\", round(final_auc_xgb,4))"
      ],
      "metadata": {
        "colab": {
          "base_uri": "https://localhost:8080/"
        },
        "id": "bKnvCS0nJQFl",
        "outputId": "6ee18a8c-91ff-4242-d902-90cf252eca1d"
      },
      "execution_count": null,
      "outputs": [
        {
          "output_type": "stream",
          "name": "stdout",
          "text": [
            "Decision Tree\n",
            "Accuracy: 0.8398\n",
            "Precision: 0.4903\n",
            "Recall: 0.8586\n",
            "F1: 0.6242\n",
            "ROC AUC: 0.8475\n",
            "\n",
            "\n",
            "Random Forest\n",
            "Accuracy: 0.85\n",
            "Precision: 0.5092\n",
            "Recall: 0.8665\n",
            "F1: 0.6415\n",
            "ROC AUC: 0.8567\n",
            "\n",
            "\n",
            "KNN\n",
            "Accuracy: 0.8321\n",
            "Precision: 0.4744\n",
            "Recall: 0.7749\n",
            "F1: 0.5885\n",
            "ROC AUC: 0.8087\n",
            "\n",
            "\n",
            "Naive Bayes\n",
            "Accuracy: 0.4084\n",
            "Precision: 0.2023\n",
            "Recall: 0.9581\n",
            "F1: 0.3341\n",
            "ROC AUC: 0.6328\n",
            "\n",
            "\n",
            "Gradient Boosting\n",
            "Accuracy: 0.8491\n",
            "Precision: 0.508\n",
            "Recall: 0.8351\n",
            "F1: 0.6317\n",
            "ROC AUC: 0.8434\n",
            "\n",
            "\n",
            "XGBoost\n",
            "Accuracy: 0.8536\n",
            "Precision: 0.5166\n",
            "Recall: 0.856\n",
            "F1: 0.6443\n",
            "ROC AUC: 0.8546\n"
          ]
        }
      ]
    },
    {
      "cell_type": "markdown",
      "source": [
        "### Plotting AUC curves"
      ],
      "metadata": {
        "id": "C3x4qx2Ldaqy"
      }
    },
    {
      "cell_type": "code",
      "source": [
        "dt_probs = final_model_dt.predict_proba(X_test)\n",
        "dt_probs = dt_probs[:, 1]\n",
        " \n",
        "rf_probs = final_model_rf.predict_proba(X_test)\n",
        "rf_probs = rf_probs[:, 1]\n",
        " \n",
        "knn_probs = final_model_knn.predict_proba(X_test)\n",
        "knn_probs = knn_probs[:, 1]\n",
        " \n",
        "nb_probs = final_model_nb.predict_proba(X_test)\n",
        "nb_probs = nb_probs[:, 1]\n",
        " \n",
        "gb_probs = final_model_gb.predict_proba(X_test)\n",
        "gb_probs = gb_probs[:, 1]\n",
        " \n",
        "xgb_probs = final_model_xgb.predict_proba(X_test)\n",
        "xgb_probs = xgb_probs[:, 1]"
      ],
      "metadata": {
        "id": "hr7UEIJRylzj"
      },
      "execution_count": null,
      "outputs": []
    },
    {
      "cell_type": "code",
      "source": [
        "from sklearn.metrics import roc_curve\n",
        "plt.figure(0).clf()\n",
        "\n",
        "# ROC Curve graphs true positive rate against the false positive rate to measure the cost to benefit of achieving the highest possible true positive rate\n",
        "# The closer the AUC value is to 1, the more likely it is that 100% of predictions are correct.\n",
        "# AUC values closer to 0 indicate that it's more likely that predictions are incorrect.\n",
        "# AUC value is used as primary metrics because of class imbalance and because it works well for classification tasks\n",
        "\n",
        "fpr, tpr, thresholds = roc_curve(Y_test, rf_probs)\n",
        "plt.plot(fpr, tpr, label=\"Random Forest, AUC=\"+str(round(final_auc_rf, 4)))\n",
        "\n",
        "fpr, tpr, thresholds = roc_curve(Y_test, dt_probs)\n",
        "plt.plot(fpr, tpr, label=\"Decision Tree, AUC=\"+str(round(final_auc_dt, 4)))\n",
        "\n",
        "fpr, tpr, thresholds = roc_curve(Y_test, knn_probs)\n",
        "plt.plot(fpr, tpr, label=\"KNN, AUC=\"+str(round(final_auc_knn, 4)))\n",
        "\n",
        "fpr, tpr, thresholds = roc_curve(Y_test, nb_probs)\n",
        "plt.plot(fpr, tpr, label=\"Naive Bayes, AUC=\"+str(round(final_auc_nb,4)))\n",
        "\n",
        "fpr, tpr, thresholds = roc_curve(Y_test, gb_probs)\n",
        "plt.plot(fpr, tpr, label=\"Gradient Boosting, AUC=\"+str(round(final_auc_gb,4)))\n",
        "\n",
        "fpr, tpr, thresholds = roc_curve(Y_test, gb_probs)\n",
        "plt.plot(fpr, tpr, label=\"XGBoost, AUC=\"+str(round(final_auc_xgb,4)))\n",
        "\n",
        "\n",
        "plt.legend()"
      ],
      "metadata": {
        "colab": {
          "base_uri": "https://localhost:8080/",
          "height": 282
        },
        "id": "maDINnZIrOvX",
        "outputId": "1076f44f-d84f-4204-a8a1-0a501bd66ae5"
      },
      "execution_count": null,
      "outputs": [
        {
          "output_type": "execute_result",
          "data": {
            "text/plain": [
              "<matplotlib.legend.Legend at 0x7faa80f6af10>"
            ]
          },
          "metadata": {},
          "execution_count": 43
        },
        {
          "output_type": "display_data",
          "data": {
            "text/plain": [
              "<Figure size 432x288 with 1 Axes>"
            ],
            "image/png": "[encoded data removed]"
          },
          "metadata": {
            "needs_background": "light"
          }
        }
      ]
    }
  ]
}